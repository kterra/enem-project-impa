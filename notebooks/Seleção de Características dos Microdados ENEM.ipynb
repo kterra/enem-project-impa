{
 "cells": [
  {
   "cell_type": "markdown",
   "metadata": {},
   "source": [
    "## Seleção de Características dos Microdados ENEM"
   ]
  },
  {
   "cell_type": "markdown",
   "metadata": {},
   "source": [
    "por Kizzy Terra"
   ]
  },
  {
   "cell_type": "markdown",
   "metadata": {},
   "source": [
    "A seleção de caracteríticas consiste de selecionar e excluir características sem mofificá-las e abrange alguns tipos de operações no conjunto de dados tais como: *remoção de valores ausentes ou com baixa variância, remoção de caraterísticas altamente correlaciondas, e também seleção utilizando algum modelo de treinamento.*"
   ]
  },
  {
   "cell_type": "code",
   "execution_count": 1,
   "metadata": {},
   "outputs": [],
   "source": [
    "import numpy as np\n",
    "import pandas as pd\n",
    "import matplotlib.pyplot as plt\n",
    "from matplotlib import cm\n",
    "import seaborn as sns\n",
    "from sklearn.model_selection import train_test_split\n",
    "from sklearn.preprocessing import LabelEncoder\n",
    "from sklearn.feature_selection import SelectKBest\n",
    "from sklearn.feature_selection import SelectFromModel\n",
    "from sklearn import decomposition\n",
    "from sklearn.linear_model import LinearRegression\n",
    "from sklearn.linear_model import Lasso\n",
    "from sklearn.ensemble import ExtraTreesClassifier\n",
    "from sklearn.feature_selection import f_regression, mutual_info_regression\n",
    "%matplotlib inline"
   ]
  },
  {
   "cell_type": "code",
   "execution_count": 2,
   "metadata": {},
   "outputs": [],
   "source": [
    "#datasets paths'\n",
    "ENEM_FILE_PATH = '/Users/kizzyterra/Workspace/analise-dados/projetos/dados/microdados-enem-2018/DADOS/MICRODADOS_ENEM_2018.csv'\n",
    "QUEST_FILE_PATH = '/Users/kizzyterra/Workspace/analise-dados/projetos/dados/microdados-enem-2018/DICIONARIO/questoes_microdados_enem_2018.csv'"
   ]
  },
  {
   "cell_type": "code",
   "execution_count": 3,
   "metadata": {},
   "outputs": [],
   "source": [
    "microdados_enem = pd.read_csv(ENEM_FILE_PATH, sep=\";\", encoding='ISO-8859-1')"
   ]
  },
  {
   "cell_type": "code",
   "execution_count": 4,
   "metadata": {},
   "outputs": [
    {
     "data": {
      "text/html": [
       "<div>\n",
       "<style scoped>\n",
       "    .dataframe tbody tr th:only-of-type {\n",
       "        vertical-align: middle;\n",
       "    }\n",
       "\n",
       "    .dataframe tbody tr th {\n",
       "        vertical-align: top;\n",
       "    }\n",
       "\n",
       "    .dataframe thead th {\n",
       "        text-align: right;\n",
       "    }\n",
       "</style>\n",
       "<table border=\"1\" class=\"dataframe\">\n",
       "  <thead>\n",
       "    <tr style=\"text-align: right;\">\n",
       "      <th></th>\n",
       "      <th>NU_INSCRICAO</th>\n",
       "      <th>NU_ANO</th>\n",
       "      <th>CO_MUNICIPIO_RESIDENCIA</th>\n",
       "      <th>NO_MUNICIPIO_RESIDENCIA</th>\n",
       "      <th>CO_UF_RESIDENCIA</th>\n",
       "      <th>SG_UF_RESIDENCIA</th>\n",
       "      <th>NU_IDADE</th>\n",
       "      <th>TP_SEXO</th>\n",
       "      <th>TP_ESTADO_CIVIL</th>\n",
       "      <th>TP_COR_RACA</th>\n",
       "      <th>...</th>\n",
       "      <th>Q018</th>\n",
       "      <th>Q019</th>\n",
       "      <th>Q020</th>\n",
       "      <th>Q021</th>\n",
       "      <th>Q022</th>\n",
       "      <th>Q023</th>\n",
       "      <th>Q024</th>\n",
       "      <th>Q025</th>\n",
       "      <th>Q026</th>\n",
       "      <th>Q027</th>\n",
       "    </tr>\n",
       "  </thead>\n",
       "  <tbody>\n",
       "    <tr>\n",
       "      <th>0</th>\n",
       "      <td>180008202043</td>\n",
       "      <td>2018</td>\n",
       "      <td>5300108</td>\n",
       "      <td>Brasília</td>\n",
       "      <td>53</td>\n",
       "      <td>DF</td>\n",
       "      <td>44.0</td>\n",
       "      <td>M</td>\n",
       "      <td>1.0</td>\n",
       "      <td>1</td>\n",
       "      <td>...</td>\n",
       "      <td>A</td>\n",
       "      <td>A</td>\n",
       "      <td>A</td>\n",
       "      <td>A</td>\n",
       "      <td>A</td>\n",
       "      <td>A</td>\n",
       "      <td>A</td>\n",
       "      <td>A</td>\n",
       "      <td>B</td>\n",
       "      <td>A</td>\n",
       "    </tr>\n",
       "    <tr>\n",
       "      <th>1</th>\n",
       "      <td>180007197856</td>\n",
       "      <td>2018</td>\n",
       "      <td>2111102</td>\n",
       "      <td>São João dos Patos</td>\n",
       "      <td>21</td>\n",
       "      <td>MA</td>\n",
       "      <td>23.0</td>\n",
       "      <td>F</td>\n",
       "      <td>0.0</td>\n",
       "      <td>3</td>\n",
       "      <td>...</td>\n",
       "      <td>A</td>\n",
       "      <td>B</td>\n",
       "      <td>A</td>\n",
       "      <td>A</td>\n",
       "      <td>B</td>\n",
       "      <td>A</td>\n",
       "      <td>A</td>\n",
       "      <td>A</td>\n",
       "      <td>A</td>\n",
       "      <td>A</td>\n",
       "    </tr>\n",
       "    <tr>\n",
       "      <th>2</th>\n",
       "      <td>180008517434</td>\n",
       "      <td>2018</td>\n",
       "      <td>3530607</td>\n",
       "      <td>Mogi das Cruzes</td>\n",
       "      <td>35</td>\n",
       "      <td>SP</td>\n",
       "      <td>23.0</td>\n",
       "      <td>F</td>\n",
       "      <td>0.0</td>\n",
       "      <td>1</td>\n",
       "      <td>...</td>\n",
       "      <td>A</td>\n",
       "      <td>B</td>\n",
       "      <td>A</td>\n",
       "      <td>A</td>\n",
       "      <td>B</td>\n",
       "      <td>B</td>\n",
       "      <td>B</td>\n",
       "      <td>B</td>\n",
       "      <td>A</td>\n",
       "      <td>A</td>\n",
       "    </tr>\n",
       "    <tr>\n",
       "      <th>3</th>\n",
       "      <td>180007661228</td>\n",
       "      <td>2018</td>\n",
       "      <td>2916401</td>\n",
       "      <td>Itapetinga</td>\n",
       "      <td>29</td>\n",
       "      <td>BA</td>\n",
       "      <td>26.0</td>\n",
       "      <td>F</td>\n",
       "      <td>0.0</td>\n",
       "      <td>3</td>\n",
       "      <td>...</td>\n",
       "      <td>A</td>\n",
       "      <td>B</td>\n",
       "      <td>B</td>\n",
       "      <td>A</td>\n",
       "      <td>C</td>\n",
       "      <td>A</td>\n",
       "      <td>B</td>\n",
       "      <td>B</td>\n",
       "      <td>A</td>\n",
       "      <td>A</td>\n",
       "    </tr>\n",
       "    <tr>\n",
       "      <th>4</th>\n",
       "      <td>180008787987</td>\n",
       "      <td>2018</td>\n",
       "      <td>2918100</td>\n",
       "      <td>Jeremoabo</td>\n",
       "      <td>29</td>\n",
       "      <td>BA</td>\n",
       "      <td>20.0</td>\n",
       "      <td>M</td>\n",
       "      <td>0.0</td>\n",
       "      <td>0</td>\n",
       "      <td>...</td>\n",
       "      <td>A</td>\n",
       "      <td>B</td>\n",
       "      <td>A</td>\n",
       "      <td>A</td>\n",
       "      <td>B</td>\n",
       "      <td>A</td>\n",
       "      <td>B</td>\n",
       "      <td>B</td>\n",
       "      <td>B</td>\n",
       "      <td>A</td>\n",
       "    </tr>\n",
       "  </tbody>\n",
       "</table>\n",
       "<p>5 rows × 137 columns</p>\n",
       "</div>"
      ],
      "text/plain": [
       "   NU_INSCRICAO  NU_ANO  CO_MUNICIPIO_RESIDENCIA NO_MUNICIPIO_RESIDENCIA  \\\n",
       "0  180008202043    2018                  5300108                Brasília   \n",
       "1  180007197856    2018                  2111102      São João dos Patos   \n",
       "2  180008517434    2018                  3530607         Mogi das Cruzes   \n",
       "3  180007661228    2018                  2916401              Itapetinga   \n",
       "4  180008787987    2018                  2918100               Jeremoabo   \n",
       "\n",
       "   CO_UF_RESIDENCIA SG_UF_RESIDENCIA  NU_IDADE TP_SEXO  TP_ESTADO_CIVIL  \\\n",
       "0                53               DF      44.0       M              1.0   \n",
       "1                21               MA      23.0       F              0.0   \n",
       "2                35               SP      23.0       F              0.0   \n",
       "3                29               BA      26.0       F              0.0   \n",
       "4                29               BA      20.0       M              0.0   \n",
       "\n",
       "   TP_COR_RACA  ...  Q018  Q019 Q020  Q021 Q022  Q023  Q024  Q025  Q026  Q027  \n",
       "0            1  ...     A     A    A     A    A     A     A     A     B     A  \n",
       "1            3  ...     A     B    A     A    B     A     A     A     A     A  \n",
       "2            1  ...     A     B    A     A    B     B     B     B     A     A  \n",
       "3            3  ...     A     B    B     A    C     A     B     B     A     A  \n",
       "4            0  ...     A     B    A     A    B     A     B     B     B     A  \n",
       "\n",
       "[5 rows x 137 columns]"
      ]
     },
     "execution_count": 4,
     "metadata": {},
     "output_type": "execute_result"
    }
   ],
   "source": [
    "microdados_enem.head()"
   ]
  },
  {
   "cell_type": "code",
   "execution_count": 5,
   "metadata": {},
   "outputs": [
    {
     "data": {
      "text/plain": [
       "array(['NU_INSCRICAO', 'NU_ANO', 'CO_MUNICIPIO_RESIDENCIA',\n",
       "       'NO_MUNICIPIO_RESIDENCIA', 'CO_UF_RESIDENCIA', 'SG_UF_RESIDENCIA',\n",
       "       'NU_IDADE', 'TP_SEXO', 'TP_ESTADO_CIVIL', 'TP_COR_RACA',\n",
       "       'TP_NACIONALIDADE', 'CO_MUNICIPIO_NASCIMENTO',\n",
       "       'NO_MUNICIPIO_NASCIMENTO', 'CO_UF_NASCIMENTO', 'SG_UF_NASCIMENTO',\n",
       "       'TP_ST_CONCLUSAO', 'TP_ANO_CONCLUIU', 'TP_ESCOLA', 'TP_ENSINO',\n",
       "       'IN_TREINEIRO', 'CO_ESCOLA', 'CO_MUNICIPIO_ESC',\n",
       "       'NO_MUNICIPIO_ESC', 'CO_UF_ESC', 'SG_UF_ESC',\n",
       "       'TP_DEPENDENCIA_ADM_ESC', 'TP_LOCALIZACAO_ESC', 'TP_SIT_FUNC_ESC',\n",
       "       'IN_BAIXA_VISAO', 'IN_CEGUEIRA', 'IN_SURDEZ',\n",
       "       'IN_DEFICIENCIA_AUDITIVA', 'IN_SURDO_CEGUEIRA',\n",
       "       'IN_DEFICIENCIA_FISICA', 'IN_DEFICIENCIA_MENTAL',\n",
       "       'IN_DEFICIT_ATENCAO', 'IN_DISLEXIA', 'IN_DISCALCULIA',\n",
       "       'IN_AUTISMO', 'IN_VISAO_MONOCULAR', 'IN_OUTRA_DEF', 'IN_GESTANTE',\n",
       "       'IN_LACTANTE', 'IN_IDOSO', 'IN_ESTUDA_CLASSE_HOSPITALAR',\n",
       "       'IN_SEM_RECURSO', 'IN_BRAILLE', 'IN_AMPLIADA_24', 'IN_AMPLIADA_18',\n",
       "       'IN_LEDOR', 'IN_ACESSO', 'IN_TRANSCRICAO', 'IN_LIBRAS',\n",
       "       'IN_LEITURA_LABIAL', 'IN_MESA_CADEIRA_RODAS',\n",
       "       'IN_MESA_CADEIRA_SEPARADA', 'IN_APOIO_PERNA', 'IN_GUIA_INTERPRETE',\n",
       "       'IN_COMPUTADOR', 'IN_CADEIRA_ESPECIAL', 'IN_CADEIRA_CANHOTO',\n",
       "       'IN_CADEIRA_ACOLCHOADA', 'IN_PROVA_DEITADO', 'IN_MOBILIARIO_OBESO',\n",
       "       'IN_LAMINA_OVERLAY', 'IN_PROTETOR_AURICULAR', 'IN_MEDIDOR_GLICOSE',\n",
       "       'IN_MAQUINA_BRAILE', 'IN_SOROBAN', 'IN_MARCA_PASSO', 'IN_SONDA',\n",
       "       'IN_MEDICAMENTOS', 'IN_SALA_INDIVIDUAL', 'IN_SALA_ESPECIAL',\n",
       "       'IN_SALA_ACOMPANHANTE', 'IN_MOBILIARIO_ESPECIFICO',\n",
       "       'IN_MATERIAL_ESPECIFICO', 'IN_NOME_SOCIAL', 'CO_MUNICIPIO_PROVA',\n",
       "       'NO_MUNICIPIO_PROVA', 'CO_UF_PROVA', 'SG_UF_PROVA',\n",
       "       'TP_PRESENCA_CN', 'TP_PRESENCA_CH', 'TP_PRESENCA_LC',\n",
       "       'TP_PRESENCA_MT', 'CO_PROVA_CN', 'CO_PROVA_CH', 'CO_PROVA_LC',\n",
       "       'CO_PROVA_MT', 'NU_NOTA_CN', 'NU_NOTA_CH', 'NU_NOTA_LC',\n",
       "       'NU_NOTA_MT', 'TX_RESPOSTAS_CN', 'TX_RESPOSTAS_CH',\n",
       "       'TX_RESPOSTAS_LC', 'TX_RESPOSTAS_MT', 'TP_LINGUA',\n",
       "       'TX_GABARITO_CN', 'TX_GABARITO_CH', 'TX_GABARITO_LC',\n",
       "       'TX_GABARITO_MT', 'TP_STATUS_REDACAO', 'NU_NOTA_COMP1',\n",
       "       'NU_NOTA_COMP2', 'NU_NOTA_COMP3', 'NU_NOTA_COMP4', 'NU_NOTA_COMP5',\n",
       "       'NU_NOTA_REDACAO', 'Q001', 'Q002', 'Q003', 'Q004', 'Q005', 'Q006',\n",
       "       'Q007', 'Q008', 'Q009', 'Q010', 'Q011', 'Q012', 'Q013', 'Q014',\n",
       "       'Q015', 'Q016', 'Q017', 'Q018', 'Q019', 'Q020', 'Q021', 'Q022',\n",
       "       'Q023', 'Q024', 'Q025', 'Q026', 'Q027'], dtype=object)"
      ]
     },
     "execution_count": 5,
     "metadata": {},
     "output_type": "execute_result"
    }
   ],
   "source": [
    "microdados_enem.columns.values"
   ]
  },
  {
   "cell_type": "markdown",
   "metadata": {},
   "source": [
    "### 1. Eliminando características com baixa variância"
   ]
  },
  {
   "cell_type": "markdown",
   "metadata": {},
   "source": [
    "As características a seguir são específicas de grupos pequenos de alunos que solicitaram ajuda específica durante a prova conforme indicado no dicionário de dados. Tais caracteríscticas são numéricas e binárias e recebem valor 1 quando o candidato apresenta tal condição e 0, caso contrário. Analisaremos sua distribuição para identificar sua relevância para os passos a seguir. Existe a hipótese de que essas colunas possam ser desconsideradas pois possuem baixa variância quando olhamos sua distribuição no conjunto de dados completo:"
   ]
  },
  {
   "cell_type": "code",
   "execution_count": 6,
   "metadata": {},
   "outputs": [],
   "source": [
    "removed_cols = ['IN_BAIXA_VISAO', 'IN_CEGUEIRA', 'IN_SURDEZ',\n",
    "   'IN_DEFICIENCIA_AUDITIVA', 'IN_SURDO_CEGUEIRA',\n",
    "   'IN_DEFICIENCIA_FISICA', 'IN_DEFICIENCIA_MENTAL',\n",
    "   'IN_DEFICIT_ATENCAO', 'IN_DISLEXIA', 'IN_DISCALCULIA',\n",
    "   'IN_AUTISMO', 'IN_VISAO_MONOCULAR', 'IN_OUTRA_DEF', 'IN_GESTANTE',\n",
    "   'IN_LACTANTE', 'IN_IDOSO', 'IN_ESTUDA_CLASSE_HOSPITALAR',\n",
    "   'IN_SEM_RECURSO', 'IN_BRAILLE', 'IN_AMPLIADA_24', 'IN_AMPLIADA_18',\n",
    "   'IN_LEDOR', 'IN_ACESSO', 'IN_TRANSCRICAO', 'IN_LIBRAS',\n",
    "   'IN_LEITURA_LABIAL', 'IN_MESA_CADEIRA_RODAS',\n",
    "   'IN_MESA_CADEIRA_SEPARADA', 'IN_APOIO_PERNA', 'IN_GUIA_INTERPRETE',\n",
    "   'IN_COMPUTADOR', 'IN_CADEIRA_ESPECIAL', 'IN_CADEIRA_CANHOTO',\n",
    "   'IN_CADEIRA_ACOLCHOADA', 'IN_PROVA_DEITADO', 'IN_MOBILIARIO_OBESO',\n",
    "   'IN_LAMINA_OVERLAY', 'IN_PROTETOR_AURICULAR', 'IN_MEDIDOR_GLICOSE',\n",
    "   'IN_MAQUINA_BRAILE', 'IN_SOROBAN', 'IN_MARCA_PASSO', 'IN_SONDA',\n",
    "   'IN_MEDICAMENTOS', 'IN_SALA_INDIVIDUAL', 'IN_SALA_ESPECIAL',\n",
    "   'IN_SALA_ACOMPANHANTE', 'IN_MOBILIARIO_ESPECIFICO',\n",
    "   'IN_MATERIAL_ESPECIFICO', 'IN_NOME_SOCIAL']"
   ]
  },
  {
   "cell_type": "markdown",
   "metadata": {},
   "source": [
    "Analisando a variância das colunas:"
   ]
  },
  {
   "cell_type": "code",
   "execution_count": 7,
   "metadata": {
    "scrolled": true
   },
   "outputs": [
    {
     "data": {
      "text/plain": [
       "IN_BAIXA_VISAO                 0.030845\n",
       "IN_CEGUEIRA                    0.011724\n",
       "IN_SURDEZ                      0.016187\n",
       "IN_DEFICIENCIA_AUDITIVA        0.020928\n",
       "IN_SURDO_CEGUEIRA              0.001535\n",
       "IN_DEFICIENCIA_FISICA          0.040209\n",
       "IN_DEFICIENCIA_MENTAL          0.018817\n",
       "IN_DEFICIT_ATENCAO             0.036110\n",
       "IN_DISLEXIA                    0.016035\n",
       "IN_DISCALCULIA                 0.007376\n",
       "IN_AUTISMO                     0.011847\n",
       "IN_VISAO_MONOCULAR             0.015933\n",
       "IN_OUTRA_DEF                   0.029168\n",
       "IN_GESTANTE                    0.017965\n",
       "IN_LACTANTE                    0.031210\n",
       "IN_IDOSO                       0.006787\n",
       "IN_ESTUDA_CLASSE_HOSPITALAR    0.002446\n",
       "IN_SEM_RECURSO                 0.041506\n",
       "IN_BRAILLE                     0.007944\n",
       "IN_AMPLIADA_24                 0.015157\n",
       "IN_AMPLIADA_18                 0.026664\n",
       "IN_LEDOR                       0.032338\n",
       "IN_ACESSO                      0.041232\n",
       "IN_TRANSCRICAO                 0.031282\n",
       "IN_LIBRAS                      0.014136\n",
       "IN_LEITURA_LABIAL              0.011145\n",
       "IN_MESA_CADEIRA_RODAS          0.018516\n",
       "IN_MESA_CADEIRA_SEPARADA       0.018764\n",
       "IN_APOIO_PERNA                 0.019470\n",
       "IN_GUIA_INTERPRETE             0.001205\n",
       "IN_COMPUTADOR                  0.001205\n",
       "IN_CADEIRA_ESPECIAL            0.001593\n",
       "IN_CADEIRA_CANHOTO             0.002660\n",
       "IN_CADEIRA_ACOLCHOADA          0.005268\n",
       "IN_PROVA_DEITADO               0.001412\n",
       "IN_MOBILIARIO_OBESO            0.003512\n",
       "IN_LAMINA_OVERLAY              0.001807\n",
       "IN_PROTETOR_AURICULAR          0.001043\n",
       "IN_MEDIDOR_GLICOSE             0.009034\n",
       "IN_MAQUINA_BRAILE              0.004322\n",
       "IN_SOROBAN                     0.003380\n",
       "IN_MARCA_PASSO                 0.001347\n",
       "IN_SONDA                       0.001412\n",
       "IN_MEDICAMENTOS                0.005962\n",
       "IN_SALA_INDIVIDUAL             0.007240\n",
       "IN_SALA_ESPECIAL               0.006215\n",
       "IN_SALA_ACOMPANHANTE           0.003158\n",
       "IN_MOBILIARIO_ESPECIFICO       0.003299\n",
       "IN_MATERIAL_ESPECIFICO         0.004085\n",
       "IN_NOME_SOCIAL                 0.006747\n",
       "dtype: float64"
      ]
     },
     "execution_count": 7,
     "metadata": {},
     "output_type": "execute_result"
    }
   ],
   "source": [
    "microdados_enem[removed_cols].std()"
   ]
  },
  {
   "cell_type": "code",
   "execution_count": 8,
   "metadata": {
    "scrolled": true
   },
   "outputs": [
    {
     "data": {
      "text/plain": [
       "IN_BAIXA_VISAO                 0.000951\n",
       "IN_CEGUEIRA                    0.000137\n",
       "IN_SURDEZ                      0.000262\n",
       "IN_DEFICIENCIA_AUDITIVA        0.000438\n",
       "IN_SURDO_CEGUEIRA              0.000002\n",
       "IN_DEFICIENCIA_FISICA          0.001617\n",
       "IN_DEFICIENCIA_MENTAL          0.000354\n",
       "IN_DEFICIT_ATENCAO             0.001304\n",
       "IN_DISLEXIA                    0.000257\n",
       "IN_DISCALCULIA                 0.000054\n",
       "IN_AUTISMO                     0.000140\n",
       "IN_VISAO_MONOCULAR             0.000254\n",
       "IN_OUTRA_DEF                   0.000851\n",
       "IN_GESTANTE                    0.000323\n",
       "IN_LACTANTE                    0.000974\n",
       "IN_IDOSO                       0.000046\n",
       "IN_ESTUDA_CLASSE_HOSPITALAR    0.000006\n",
       "IN_SEM_RECURSO                 0.001723\n",
       "IN_BRAILLE                     0.000063\n",
       "IN_AMPLIADA_24                 0.000230\n",
       "IN_AMPLIADA_18                 0.000711\n",
       "IN_LEDOR                       0.001046\n",
       "IN_ACESSO                      0.001700\n",
       "IN_TRANSCRICAO                 0.000979\n",
       "IN_LIBRAS                      0.000200\n",
       "IN_LEITURA_LABIAL              0.000124\n",
       "IN_MESA_CADEIRA_RODAS          0.000343\n",
       "IN_MESA_CADEIRA_SEPARADA       0.000352\n",
       "IN_APOIO_PERNA                 0.000379\n",
       "IN_GUIA_INTERPRETE             0.000001\n",
       "IN_COMPUTADOR                  0.000001\n",
       "IN_CADEIRA_ESPECIAL            0.000003\n",
       "IN_CADEIRA_CANHOTO             0.000007\n",
       "IN_CADEIRA_ACOLCHOADA          0.000028\n",
       "IN_PROVA_DEITADO               0.000002\n",
       "IN_MOBILIARIO_OBESO            0.000012\n",
       "IN_LAMINA_OVERLAY              0.000003\n",
       "IN_PROTETOR_AURICULAR          0.000001\n",
       "IN_MEDIDOR_GLICOSE             0.000082\n",
       "IN_MAQUINA_BRAILE              0.000019\n",
       "IN_SOROBAN                     0.000011\n",
       "IN_MARCA_PASSO                 0.000002\n",
       "IN_SONDA                       0.000002\n",
       "IN_MEDICAMENTOS                0.000036\n",
       "IN_SALA_INDIVIDUAL             0.000052\n",
       "IN_SALA_ESPECIAL               0.000039\n",
       "IN_SALA_ACOMPANHANTE           0.000010\n",
       "IN_MOBILIARIO_ESPECIFICO       0.000011\n",
       "IN_MATERIAL_ESPECIFICO         0.000017\n",
       "IN_NOME_SOCIAL                 0.000046\n",
       "dtype: float64"
      ]
     },
     "execution_count": 8,
     "metadata": {},
     "output_type": "execute_result"
    }
   ],
   "source": [
    "microdados_enem[removed_cols].var()"
   ]
  },
  {
   "cell_type": "code",
   "execution_count": 9,
   "metadata": {
    "scrolled": true
   },
   "outputs": [
    {
     "data": {
      "text/plain": [
       "IN_BAIXA_VISAO                 0.0\n",
       "IN_CEGUEIRA                    0.0\n",
       "IN_SURDEZ                      0.0\n",
       "IN_DEFICIENCIA_AUDITIVA        0.0\n",
       "IN_SURDO_CEGUEIRA              0.0\n",
       "IN_DEFICIENCIA_FISICA          0.0\n",
       "IN_DEFICIENCIA_MENTAL          0.0\n",
       "IN_DEFICIT_ATENCAO             0.0\n",
       "IN_DISLEXIA                    0.0\n",
       "IN_DISCALCULIA                 0.0\n",
       "IN_AUTISMO                     0.0\n",
       "IN_VISAO_MONOCULAR             0.0\n",
       "IN_OUTRA_DEF                   0.0\n",
       "IN_GESTANTE                    0.0\n",
       "IN_LACTANTE                    0.0\n",
       "IN_IDOSO                       0.0\n",
       "IN_ESTUDA_CLASSE_HOSPITALAR    0.0\n",
       "IN_SEM_RECURSO                 0.0\n",
       "IN_BRAILLE                     0.0\n",
       "IN_AMPLIADA_24                 0.0\n",
       "IN_AMPLIADA_18                 0.0\n",
       "IN_LEDOR                       0.0\n",
       "IN_ACESSO                      0.0\n",
       "IN_TRANSCRICAO                 0.0\n",
       "IN_LIBRAS                      0.0\n",
       "IN_LEITURA_LABIAL              0.0\n",
       "IN_MESA_CADEIRA_RODAS          0.0\n",
       "IN_MESA_CADEIRA_SEPARADA       0.0\n",
       "IN_APOIO_PERNA                 0.0\n",
       "IN_GUIA_INTERPRETE             0.0\n",
       "IN_COMPUTADOR                  0.0\n",
       "IN_CADEIRA_ESPECIAL            0.0\n",
       "IN_CADEIRA_CANHOTO             0.0\n",
       "IN_CADEIRA_ACOLCHOADA          0.0\n",
       "IN_PROVA_DEITADO               0.0\n",
       "IN_MOBILIARIO_OBESO            0.0\n",
       "IN_LAMINA_OVERLAY              0.0\n",
       "IN_PROTETOR_AURICULAR          0.0\n",
       "IN_MEDIDOR_GLICOSE             0.0\n",
       "IN_MAQUINA_BRAILE              0.0\n",
       "IN_SOROBAN                     0.0\n",
       "IN_MARCA_PASSO                 0.0\n",
       "IN_SONDA                       0.0\n",
       "IN_MEDICAMENTOS                0.0\n",
       "IN_SALA_INDIVIDUAL             0.0\n",
       "IN_SALA_ESPECIAL               0.0\n",
       "IN_SALA_ACOMPANHANTE           0.0\n",
       "IN_MOBILIARIO_ESPECIFICO       0.0\n",
       "IN_MATERIAL_ESPECIFICO         0.0\n",
       "IN_NOME_SOCIAL                 0.0\n",
       "dtype: float64"
      ]
     },
     "execution_count": 9,
     "metadata": {},
     "output_type": "execute_result"
    }
   ],
   "source": [
    "microdados_enem[removed_cols].median()"
   ]
  },
  {
   "cell_type": "markdown",
   "metadata": {},
   "source": [
    "Como suposto tais variáveis possuem baixa variância e por essa razão serão removidas do conjunto de melhores features."
   ]
  },
  {
   "cell_type": "markdown",
   "metadata": {},
   "source": [
    "### 2. Eliminando redundâncias"
   ]
  },
  {
   "cell_type": "markdown",
   "metadata": {},
   "source": [
    "Além disso, iremos eliminar colunas redundantes, por exemplo: *'NO_MUNICIPIO_RESIDENCIA'* equivalente a *'CO_MUNICIPIO_RESIDENCIA'*. A primeira característica(nome do município) é a descrição da primeira(código do município). "
   ]
  },
  {
   "cell_type": "code",
   "execution_count": 10,
   "metadata": {},
   "outputs": [
    {
     "data": {
      "text/html": [
       "<div>\n",
       "<style scoped>\n",
       "    .dataframe tbody tr th:only-of-type {\n",
       "        vertical-align: middle;\n",
       "    }\n",
       "\n",
       "    .dataframe tbody tr th {\n",
       "        vertical-align: top;\n",
       "    }\n",
       "\n",
       "    .dataframe thead th {\n",
       "        text-align: right;\n",
       "    }\n",
       "</style>\n",
       "<table border=\"1\" class=\"dataframe\">\n",
       "  <thead>\n",
       "    <tr style=\"text-align: right;\">\n",
       "      <th></th>\n",
       "      <th>CO_MUNICIPIO_RESIDENCIA</th>\n",
       "      <th>CO_UF_RESIDENCIA</th>\n",
       "      <th>CO_MUNICIPIO_NASCIMENTO</th>\n",
       "      <th>CO_UF_NASCIMENTO</th>\n",
       "      <th>CO_MUNICIPIO_ESC</th>\n",
       "      <th>CO_UF_ESC</th>\n",
       "      <th>CO_MUNICIPIO_PROVA</th>\n",
       "      <th>CO_UF_PROVA</th>\n",
       "    </tr>\n",
       "  </thead>\n",
       "  <tbody>\n",
       "    <tr>\n",
       "      <th>CO_MUNICIPIO_RESIDENCIA</th>\n",
       "      <td>1.000000</td>\n",
       "      <td>0.999859</td>\n",
       "      <td>0.875779</td>\n",
       "      <td>0.875621</td>\n",
       "      <td>0.998203</td>\n",
       "      <td>0.998054</td>\n",
       "      <td>0.993633</td>\n",
       "      <td>0.993480</td>\n",
       "    </tr>\n",
       "    <tr>\n",
       "      <th>CO_UF_RESIDENCIA</th>\n",
       "      <td>0.999859</td>\n",
       "      <td>1.000000</td>\n",
       "      <td>0.875197</td>\n",
       "      <td>0.875255</td>\n",
       "      <td>0.998055</td>\n",
       "      <td>0.998196</td>\n",
       "      <td>0.993501</td>\n",
       "      <td>0.993608</td>\n",
       "    </tr>\n",
       "    <tr>\n",
       "      <th>CO_MUNICIPIO_NASCIMENTO</th>\n",
       "      <td>0.875779</td>\n",
       "      <td>0.875197</td>\n",
       "      <td>1.000000</td>\n",
       "      <td>0.999854</td>\n",
       "      <td>0.906868</td>\n",
       "      <td>0.906403</td>\n",
       "      <td>0.873375</td>\n",
       "      <td>0.872779</td>\n",
       "    </tr>\n",
       "    <tr>\n",
       "      <th>CO_UF_NASCIMENTO</th>\n",
       "      <td>0.875621</td>\n",
       "      <td>0.875255</td>\n",
       "      <td>0.999854</td>\n",
       "      <td>1.000000</td>\n",
       "      <td>0.906702</td>\n",
       "      <td>0.906480</td>\n",
       "      <td>0.873220</td>\n",
       "      <td>0.872836</td>\n",
       "    </tr>\n",
       "    <tr>\n",
       "      <th>CO_MUNICIPIO_ESC</th>\n",
       "      <td>0.998203</td>\n",
       "      <td>0.998055</td>\n",
       "      <td>0.906868</td>\n",
       "      <td>0.906702</td>\n",
       "      <td>1.000000</td>\n",
       "      <td>0.999849</td>\n",
       "      <td>0.996062</td>\n",
       "      <td>0.995916</td>\n",
       "    </tr>\n",
       "    <tr>\n",
       "      <th>CO_UF_ESC</th>\n",
       "      <td>0.998054</td>\n",
       "      <td>0.998196</td>\n",
       "      <td>0.906403</td>\n",
       "      <td>0.906480</td>\n",
       "      <td>0.999849</td>\n",
       "      <td>1.000000</td>\n",
       "      <td>0.995925</td>\n",
       "      <td>0.996055</td>\n",
       "    </tr>\n",
       "    <tr>\n",
       "      <th>CO_MUNICIPIO_PROVA</th>\n",
       "      <td>0.993633</td>\n",
       "      <td>0.993501</td>\n",
       "      <td>0.873375</td>\n",
       "      <td>0.873220</td>\n",
       "      <td>0.996062</td>\n",
       "      <td>0.995925</td>\n",
       "      <td>1.000000</td>\n",
       "      <td>0.999860</td>\n",
       "    </tr>\n",
       "    <tr>\n",
       "      <th>CO_UF_PROVA</th>\n",
       "      <td>0.993480</td>\n",
       "      <td>0.993608</td>\n",
       "      <td>0.872779</td>\n",
       "      <td>0.872836</td>\n",
       "      <td>0.995916</td>\n",
       "      <td>0.996055</td>\n",
       "      <td>0.999860</td>\n",
       "      <td>1.000000</td>\n",
       "    </tr>\n",
       "  </tbody>\n",
       "</table>\n",
       "</div>"
      ],
      "text/plain": [
       "                         CO_MUNICIPIO_RESIDENCIA  CO_UF_RESIDENCIA  \\\n",
       "CO_MUNICIPIO_RESIDENCIA                 1.000000          0.999859   \n",
       "CO_UF_RESIDENCIA                        0.999859          1.000000   \n",
       "CO_MUNICIPIO_NASCIMENTO                 0.875779          0.875197   \n",
       "CO_UF_NASCIMENTO                        0.875621          0.875255   \n",
       "CO_MUNICIPIO_ESC                        0.998203          0.998055   \n",
       "CO_UF_ESC                               0.998054          0.998196   \n",
       "CO_MUNICIPIO_PROVA                      0.993633          0.993501   \n",
       "CO_UF_PROVA                             0.993480          0.993608   \n",
       "\n",
       "                         CO_MUNICIPIO_NASCIMENTO  CO_UF_NASCIMENTO  \\\n",
       "CO_MUNICIPIO_RESIDENCIA                 0.875779          0.875621   \n",
       "CO_UF_RESIDENCIA                        0.875197          0.875255   \n",
       "CO_MUNICIPIO_NASCIMENTO                 1.000000          0.999854   \n",
       "CO_UF_NASCIMENTO                        0.999854          1.000000   \n",
       "CO_MUNICIPIO_ESC                        0.906868          0.906702   \n",
       "CO_UF_ESC                               0.906403          0.906480   \n",
       "CO_MUNICIPIO_PROVA                      0.873375          0.873220   \n",
       "CO_UF_PROVA                             0.872779          0.872836   \n",
       "\n",
       "                         CO_MUNICIPIO_ESC  CO_UF_ESC  CO_MUNICIPIO_PROVA  \\\n",
       "CO_MUNICIPIO_RESIDENCIA          0.998203   0.998054            0.993633   \n",
       "CO_UF_RESIDENCIA                 0.998055   0.998196            0.993501   \n",
       "CO_MUNICIPIO_NASCIMENTO          0.906868   0.906403            0.873375   \n",
       "CO_UF_NASCIMENTO                 0.906702   0.906480            0.873220   \n",
       "CO_MUNICIPIO_ESC                 1.000000   0.999849            0.996062   \n",
       "CO_UF_ESC                        0.999849   1.000000            0.995925   \n",
       "CO_MUNICIPIO_PROVA               0.996062   0.995925            1.000000   \n",
       "CO_UF_PROVA                      0.995916   0.996055            0.999860   \n",
       "\n",
       "                         CO_UF_PROVA  \n",
       "CO_MUNICIPIO_RESIDENCIA     0.993480  \n",
       "CO_UF_RESIDENCIA            0.993608  \n",
       "CO_MUNICIPIO_NASCIMENTO     0.872779  \n",
       "CO_UF_NASCIMENTO            0.872836  \n",
       "CO_MUNICIPIO_ESC            0.995916  \n",
       "CO_UF_ESC                   0.996055  \n",
       "CO_MUNICIPIO_PROVA          0.999860  \n",
       "CO_UF_PROVA                 1.000000  "
      ]
     },
     "execution_count": 10,
     "metadata": {},
     "output_type": "execute_result"
    }
   ],
   "source": [
    "microdados_enem[['CO_MUNICIPIO_RESIDENCIA','NO_MUNICIPIO_RESIDENCIA','CO_UF_RESIDENCIA','SG_UF_RESIDENCIA', \n",
    "                 'CO_MUNICIPIO_NASCIMENTO', 'NO_MUNICIPIO_NASCIMENTO','CO_UF_NASCIMENTO', 'SG_UF_NASCIMENTO',\n",
    "                 'CO_MUNICIPIO_ESC','NO_MUNICIPIO_ESC','CO_UF_ESC', 'SG_UF_ESC', \n",
    "                 'CO_MUNICIPIO_PROVA','NO_MUNICIPIO_PROVA', 'CO_UF_PROVA', 'SG_UF_PROVA']].corr()"
   ]
  },
  {
   "cell_type": "code",
   "execution_count": 11,
   "metadata": {
    "scrolled": true
   },
   "outputs": [
    {
     "data": {
      "text/html": [
       "<div>\n",
       "<style scoped>\n",
       "    .dataframe tbody tr th:only-of-type {\n",
       "        vertical-align: middle;\n",
       "    }\n",
       "\n",
       "    .dataframe tbody tr th {\n",
       "        vertical-align: top;\n",
       "    }\n",
       "\n",
       "    .dataframe thead th {\n",
       "        text-align: right;\n",
       "    }\n",
       "</style>\n",
       "<table border=\"1\" class=\"dataframe\">\n",
       "  <thead>\n",
       "    <tr style=\"text-align: right;\">\n",
       "      <th></th>\n",
       "      <th>CO_MUNICIPIO_RESIDENCIA</th>\n",
       "      <th>NO_MUNICIPIO_RESIDENCIA</th>\n",
       "      <th>CO_UF_RESIDENCIA</th>\n",
       "      <th>SG_UF_RESIDENCIA</th>\n",
       "      <th>CO_MUNICIPIO_NASCIMENTO</th>\n",
       "      <th>NO_MUNICIPIO_NASCIMENTO</th>\n",
       "      <th>CO_UF_NASCIMENTO</th>\n",
       "      <th>SG_UF_NASCIMENTO</th>\n",
       "      <th>CO_MUNICIPIO_ESC</th>\n",
       "      <th>NO_MUNICIPIO_ESC</th>\n",
       "      <th>CO_UF_ESC</th>\n",
       "      <th>SG_UF_ESC</th>\n",
       "      <th>CO_MUNICIPIO_PROVA</th>\n",
       "      <th>NO_MUNICIPIO_PROVA</th>\n",
       "      <th>CO_UF_PROVA</th>\n",
       "      <th>SG_UF_PROVA</th>\n",
       "    </tr>\n",
       "  </thead>\n",
       "  <tbody>\n",
       "    <tr>\n",
       "      <th>0</th>\n",
       "      <td>5300108</td>\n",
       "      <td>Brasília</td>\n",
       "      <td>53</td>\n",
       "      <td>DF</td>\n",
       "      <td>NaN</td>\n",
       "      <td>NaN</td>\n",
       "      <td>NaN</td>\n",
       "      <td>NaN</td>\n",
       "      <td>5208707.0</td>\n",
       "      <td>Goiânia</td>\n",
       "      <td>52.0</td>\n",
       "      <td>GO</td>\n",
       "      <td>5210208</td>\n",
       "      <td>Iporá</td>\n",
       "      <td>52</td>\n",
       "      <td>GO</td>\n",
       "    </tr>\n",
       "    <tr>\n",
       "      <th>1</th>\n",
       "      <td>2111102</td>\n",
       "      <td>São João dos Patos</td>\n",
       "      <td>21</td>\n",
       "      <td>MA</td>\n",
       "      <td>2111102.0</td>\n",
       "      <td>São João dos Patos</td>\n",
       "      <td>21.0</td>\n",
       "      <td>MA</td>\n",
       "      <td>NaN</td>\n",
       "      <td>NaN</td>\n",
       "      <td>NaN</td>\n",
       "      <td>NaN</td>\n",
       "      <td>2111102</td>\n",
       "      <td>São João dos Patos</td>\n",
       "      <td>21</td>\n",
       "      <td>MA</td>\n",
       "    </tr>\n",
       "    <tr>\n",
       "      <th>2</th>\n",
       "      <td>3530607</td>\n",
       "      <td>Mogi das Cruzes</td>\n",
       "      <td>35</td>\n",
       "      <td>SP</td>\n",
       "      <td>4209300.0</td>\n",
       "      <td>Lages</td>\n",
       "      <td>42.0</td>\n",
       "      <td>SC</td>\n",
       "      <td>NaN</td>\n",
       "      <td>NaN</td>\n",
       "      <td>NaN</td>\n",
       "      <td>NaN</td>\n",
       "      <td>4314902</td>\n",
       "      <td>Porto Alegre</td>\n",
       "      <td>43</td>\n",
       "      <td>RS</td>\n",
       "    </tr>\n",
       "    <tr>\n",
       "      <th>3</th>\n",
       "      <td>2916401</td>\n",
       "      <td>Itapetinga</td>\n",
       "      <td>29</td>\n",
       "      <td>BA</td>\n",
       "      <td>NaN</td>\n",
       "      <td>NaN</td>\n",
       "      <td>NaN</td>\n",
       "      <td>NaN</td>\n",
       "      <td>NaN</td>\n",
       "      <td>NaN</td>\n",
       "      <td>NaN</td>\n",
       "      <td>NaN</td>\n",
       "      <td>2916401</td>\n",
       "      <td>Itapetinga</td>\n",
       "      <td>29</td>\n",
       "      <td>BA</td>\n",
       "    </tr>\n",
       "    <tr>\n",
       "      <th>4</th>\n",
       "      <td>2918100</td>\n",
       "      <td>Jeremoabo</td>\n",
       "      <td>29</td>\n",
       "      <td>BA</td>\n",
       "      <td>2800308.0</td>\n",
       "      <td>Aracaju</td>\n",
       "      <td>28.0</td>\n",
       "      <td>SE</td>\n",
       "      <td>2918100.0</td>\n",
       "      <td>Jeremoabo</td>\n",
       "      <td>29.0</td>\n",
       "      <td>BA</td>\n",
       "      <td>2918100</td>\n",
       "      <td>Jeremoabo</td>\n",
       "      <td>29</td>\n",
       "      <td>BA</td>\n",
       "    </tr>\n",
       "  </tbody>\n",
       "</table>\n",
       "</div>"
      ],
      "text/plain": [
       "   CO_MUNICIPIO_RESIDENCIA NO_MUNICIPIO_RESIDENCIA  CO_UF_RESIDENCIA  \\\n",
       "0                  5300108                Brasília                53   \n",
       "1                  2111102      São João dos Patos                21   \n",
       "2                  3530607         Mogi das Cruzes                35   \n",
       "3                  2916401              Itapetinga                29   \n",
       "4                  2918100               Jeremoabo                29   \n",
       "\n",
       "  SG_UF_RESIDENCIA  CO_MUNICIPIO_NASCIMENTO NO_MUNICIPIO_NASCIMENTO  \\\n",
       "0               DF                      NaN                     NaN   \n",
       "1               MA                2111102.0      São João dos Patos   \n",
       "2               SP                4209300.0                   Lages   \n",
       "3               BA                      NaN                     NaN   \n",
       "4               BA                2800308.0                 Aracaju   \n",
       "\n",
       "   CO_UF_NASCIMENTO SG_UF_NASCIMENTO  CO_MUNICIPIO_ESC NO_MUNICIPIO_ESC  \\\n",
       "0               NaN              NaN         5208707.0          Goiânia   \n",
       "1              21.0               MA               NaN              NaN   \n",
       "2              42.0               SC               NaN              NaN   \n",
       "3               NaN              NaN               NaN              NaN   \n",
       "4              28.0               SE         2918100.0        Jeremoabo   \n",
       "\n",
       "   CO_UF_ESC SG_UF_ESC  CO_MUNICIPIO_PROVA  NO_MUNICIPIO_PROVA  CO_UF_PROVA  \\\n",
       "0       52.0        GO             5210208               Iporá           52   \n",
       "1        NaN       NaN             2111102  São João dos Patos           21   \n",
       "2        NaN       NaN             4314902        Porto Alegre           43   \n",
       "3        NaN       NaN             2916401          Itapetinga           29   \n",
       "4       29.0        BA             2918100           Jeremoabo           29   \n",
       "\n",
       "  SG_UF_PROVA  \n",
       "0          GO  \n",
       "1          MA  \n",
       "2          RS  \n",
       "3          BA  \n",
       "4          BA  "
      ]
     },
     "execution_count": 11,
     "metadata": {},
     "output_type": "execute_result"
    }
   ],
   "source": [
    "microdados_enem[['CO_MUNICIPIO_RESIDENCIA','NO_MUNICIPIO_RESIDENCIA','CO_UF_RESIDENCIA','SG_UF_RESIDENCIA', \n",
    "                 'CO_MUNICIPIO_NASCIMENTO', 'NO_MUNICIPIO_NASCIMENTO','CO_UF_NASCIMENTO', 'SG_UF_NASCIMENTO',\n",
    "                 'CO_MUNICIPIO_ESC','NO_MUNICIPIO_ESC','CO_UF_ESC', 'SG_UF_ESC', \n",
    "                 'CO_MUNICIPIO_PROVA','NO_MUNICIPIO_PROVA', 'CO_UF_PROVA', 'SG_UF_PROVA']].head()"
   ]
  },
  {
   "cell_type": "code",
   "execution_count": 12,
   "metadata": {},
   "outputs": [
    {
     "data": {
      "text/plain": [
       "Index(['CO_MUNICIPIO_RESIDENCIA', 'NO_MUNICIPIO_RESIDENCIA',\n",
       "       'CO_UF_RESIDENCIA', 'SG_UF_RESIDENCIA', 'CO_MUNICIPIO_NASCIMENTO',\n",
       "       'NO_MUNICIPIO_NASCIMENTO', 'CO_UF_NASCIMENTO', 'SG_UF_NASCIMENTO',\n",
       "       'CO_MUNICIPIO_ESC', 'NO_MUNICIPIO_ESC', 'CO_UF_ESC', 'SG_UF_ESC',\n",
       "       'CO_MUNICIPIO_PROVA', 'NO_MUNICIPIO_PROVA', 'CO_UF_PROVA',\n",
       "       'SG_UF_PROVA'],\n",
       "      dtype='object')"
      ]
     },
     "execution_count": 12,
     "metadata": {},
     "output_type": "execute_result"
    }
   ],
   "source": [
    "microdados_enem[['CO_MUNICIPIO_RESIDENCIA','NO_MUNICIPIO_RESIDENCIA','CO_UF_RESIDENCIA','SG_UF_RESIDENCIA', \n",
    "                 'CO_MUNICIPIO_NASCIMENTO', 'NO_MUNICIPIO_NASCIMENTO','CO_UF_NASCIMENTO', 'SG_UF_NASCIMENTO',\n",
    "                 'CO_MUNICIPIO_ESC','NO_MUNICIPIO_ESC','CO_UF_ESC', 'SG_UF_ESC', \n",
    "                 'CO_MUNICIPIO_PROVA','NO_MUNICIPIO_PROVA', 'CO_UF_PROVA', 'SG_UF_PROVA']].columns"
   ]
  },
  {
   "cell_type": "markdown",
   "metadata": {},
   "source": [
    "### 3. Tratando dados ausentes"
   ]
  },
  {
   "cell_type": "markdown",
   "metadata": {},
   "source": [
    "Observando as características remanescentes em três grupos (para facilitar a visualiação):"
   ]
  },
  {
   "cell_type": "code",
   "execution_count": 13,
   "metadata": {},
   "outputs": [
    {
     "data": {
      "text/plain": [
       "NU_INSCRICAO               0\n",
       "NU_ANO                     0\n",
       "CO_MUNICIPIO_RESIDENCIA    0\n",
       "NO_MUNICIPIO_RESIDENCIA    0\n",
       "CO_UF_RESIDENCIA           0\n",
       "                          ..\n",
       "Q023                       0\n",
       "Q024                       0\n",
       "Q025                       0\n",
       "Q026                       4\n",
       "Q027                       0\n",
       "Length: 137, dtype: int64"
      ]
     },
     "execution_count": 13,
     "metadata": {},
     "output_type": "execute_result"
    }
   ],
   "source": [
    "microdados_enem.isna().sum()"
   ]
  },
  {
   "cell_type": "code",
   "execution_count": 14,
   "metadata": {},
   "outputs": [
    {
     "data": {
      "text/plain": [
       "NU_INSCRICAO                     0\n",
       "NU_ANO                           0\n",
       "CO_MUNICIPIO_RESIDENCIA          0\n",
       "CO_UF_RESIDENCIA                 0\n",
       "NU_IDADE                        97\n",
       "TP_SEXO                          0\n",
       "TP_ESTADO_CIVIL             217637\n",
       "TP_COR_RACA                      0\n",
       "TP_NACIONALIDADE                 0\n",
       "CO_MUNICIPIO_NASCIMENTO     185783\n",
       "CO_UF_NASCIMENTO            185783\n",
       "TP_ST_CONCLUSAO                  0\n",
       "TP_ANO_CONCLUIU                  0\n",
       "TP_ESCOLA                        0\n",
       "TP_ENSINO                  2030666\n",
       "IN_TREINEIRO                     0\n",
       "CO_ESCOLA                  4064926\n",
       "CO_MUNICIPIO_ESC           4064926\n",
       "CO_UF_ESC                  4064926\n",
       "TP_DEPENDENCIA_ADM_ESC     4064926\n",
       "TP_LOCALIZACAO_ESC         4064926\n",
       "TP_SIT_FUNC_ESC            4064926\n",
       "dtype: int64"
      ]
     },
     "execution_count": 14,
     "metadata": {},
     "output_type": "execute_result"
    }
   ],
   "source": [
    "microdados_enem[['NU_INSCRICAO', 'NU_ANO', 'CO_MUNICIPIO_RESIDENCIA',\n",
    "       'CO_UF_RESIDENCIA', 'NU_IDADE', 'TP_SEXO', 'TP_ESTADO_CIVIL', 'TP_COR_RACA',\n",
    "       'TP_NACIONALIDADE', 'CO_MUNICIPIO_NASCIMENTO','CO_UF_NASCIMENTO', \n",
    "       'TP_ST_CONCLUSAO', 'TP_ANO_CONCLUIU', 'TP_ESCOLA', 'TP_ENSINO',\n",
    "       'IN_TREINEIRO', 'CO_ESCOLA', 'CO_MUNICIPIO_ESC','CO_UF_ESC', \n",
    "       'TP_DEPENDENCIA_ADM_ESC', 'TP_LOCALIZACAO_ESC', 'TP_SIT_FUNC_ESC']].isna().sum()"
   ]
  },
  {
   "cell_type": "code",
   "execution_count": 15,
   "metadata": {},
   "outputs": [
    {
     "data": {
      "text/plain": [
       "CO_MUNICIPIO_PROVA          0\n",
       "CO_UF_PROVA                 0\n",
       "TP_PRESENCA_CN            155\n",
       "TP_PRESENCA_CH            155\n",
       "TP_PRESENCA_LC            155\n",
       "TP_PRESENCA_MT            155\n",
       "CO_PROVA_CN           1608648\n",
       "CO_PROVA_CH           1365483\n",
       "CO_PROVA_LC           1365483\n",
       "CO_PROVA_MT           1608648\n",
       "NU_NOTA_CN            1608648\n",
       "NU_NOTA_CH            1365483\n",
       "NU_NOTA_LC            1365483\n",
       "NU_NOTA_MT            1608648\n",
       "TX_RESPOSTAS_CN       1608648\n",
       "TX_RESPOSTAS_CH       1365483\n",
       "TX_RESPOSTAS_LC       1365483\n",
       "TX_RESPOSTAS_MT       1608648\n",
       "TP_LINGUA                   0\n",
       "TX_GABARITO_CN        1608648\n",
       "TX_GABARITO_CH        1365483\n",
       "TX_GABARITO_LC        1365483\n",
       "TX_GABARITO_MT        1608648\n",
       "TP_STATUS_REDACAO     1365483\n",
       "NU_NOTA_COMP1         1365483\n",
       "NU_NOTA_COMP2         1365483\n",
       "NU_NOTA_COMP3         1365483\n",
       "NU_NOTA_COMP4         1365483\n",
       "NU_NOTA_COMP5         1365483\n",
       "NU_NOTA_REDACAO       1365483\n",
       "dtype: int64"
      ]
     },
     "execution_count": 15,
     "metadata": {},
     "output_type": "execute_result"
    }
   ],
   "source": [
    "microdados_enem[['CO_MUNICIPIO_PROVA', 'CO_UF_PROVA','TP_PRESENCA_CN', 'TP_PRESENCA_CH', 'TP_PRESENCA_LC',\n",
    "       'TP_PRESENCA_MT', 'CO_PROVA_CN', 'CO_PROVA_CH', 'CO_PROVA_LC',\n",
    "       'CO_PROVA_MT','NU_NOTA_CN', 'NU_NOTA_CH', 'NU_NOTA_LC',\n",
    "       'NU_NOTA_MT', 'TX_RESPOSTAS_CN', 'TX_RESPOSTAS_CH',\n",
    "       'TX_RESPOSTAS_LC', 'TX_RESPOSTAS_MT', 'TP_LINGUA',\n",
    "       'TX_GABARITO_CN', 'TX_GABARITO_CH', 'TX_GABARITO_LC',\n",
    "       'TX_GABARITO_MT', 'TP_STATUS_REDACAO', 'NU_NOTA_COMP1',\n",
    "       'NU_NOTA_COMP2', 'NU_NOTA_COMP3', 'NU_NOTA_COMP4', 'NU_NOTA_COMP5',\n",
    "       'NU_NOTA_REDACAO']].isna().sum()"
   ]
  },
  {
   "cell_type": "code",
   "execution_count": 16,
   "metadata": {
    "scrolled": true
   },
   "outputs": [
    {
     "data": {
      "text/plain": [
       "Q001    0\n",
       "Q002    0\n",
       "Q003    0\n",
       "Q004    0\n",
       "Q005    0\n",
       "Q006    0\n",
       "Q007    0\n",
       "Q008    0\n",
       "Q009    0\n",
       "Q010    0\n",
       "Q011    0\n",
       "Q012    0\n",
       "Q013    0\n",
       "Q014    0\n",
       "Q015    0\n",
       "Q016    0\n",
       "Q017    0\n",
       "Q018    0\n",
       "Q019    0\n",
       "Q020    0\n",
       "Q021    0\n",
       "Q022    0\n",
       "Q023    0\n",
       "Q024    0\n",
       "Q025    0\n",
       "Q026    4\n",
       "Q027    0\n",
       "dtype: int64"
      ]
     },
     "execution_count": 16,
     "metadata": {},
     "output_type": "execute_result"
    }
   ],
   "source": [
    "microdados_enem[['Q001', 'Q002', 'Q003', 'Q004', 'Q005', 'Q006',\n",
    "       'Q007', 'Q008', 'Q009', 'Q010', 'Q011', 'Q012', 'Q013', 'Q014',\n",
    "       'Q015', 'Q016', 'Q017', 'Q018', 'Q019', 'Q020', 'Q021', 'Q022',\n",
    "       'Q023', 'Q024', 'Q025', 'Q026', 'Q027']].isna().sum()"
   ]
  },
  {
   "cell_type": "markdown",
   "metadata": {},
   "source": [
    "### Estratégias para remoção de dados ausentes"
   ]
  },
  {
   "cell_type": "markdown",
   "metadata": {},
   "source": [
    "Aqui entramos na etapa de análise dos valores ausentes e como deverão ser tratados: \n",
    "\n",
    "1. As colunas com dados da escola não são de preenchimento obrigatório e possuem muitos valores ausentes, aproximadamente 80% das linhas não possuem esse dado e por essa razão essas colunas não serão adicionadas ao grupo de melhores características:"
   ]
  },
  {
   "cell_type": "raw",
   "metadata": {},
   "source": [
    "Missing values:\n",
    "CO_ESCOLA                  4064926\n",
    "CO_MUNICIPIO_ESC           4064926\n",
    "CO_UF_ESC                  4064926\n",
    "TP_DEPENDENCIA_ADM_ESC     4064926\n",
    "TP_LOCALIZACAO_ESC         4064926\n",
    "TP_SIT_FUNC_ESC            4064926\n",
    "TP_ENSINO                  2030666"
   ]
  },
  {
   "cell_type": "markdown",
   "metadata": {},
   "source": [
    "2.  A coluna TP_ENSINO será removida sem prejuízo uma vez que existem outras colunas tais como TP_ESCOLA e Q027 que   "
   ]
  },
  {
   "cell_type": "raw",
   "metadata": {},
   "source": [
    "Missing values:\n",
    "TP_ENSINO                  2030666"
   ]
  },
  {
   "cell_type": "markdown",
   "metadata": {},
   "source": [
    "3. A coluna que indica o estado civil é uma variável caetgórica numérica que assume os seguintes valores:"
   ]
  },
  {
   "cell_type": "raw",
   "metadata": {},
   "source": [
    "0\tSolteiro(a)\n",
    "1\tCasado(a)/Mora com companheiro(a)\n",
    "2\tDivorciado(a)/Desquitado(a)/Separado(a)\n",
    "3\tViúvo(a)\n",
    "4   Não-informado"
   ]
  },
  {
   "cell_type": "markdown",
   "metadata": {},
   "source": [
    "Iremos tratar as 217.637 entradas ausentes como uma quinta categoria: \n",
    "    \n",
    "4 - Não informado"
   ]
  },
  {
   "cell_type": "code",
   "execution_count": 17,
   "metadata": {},
   "outputs": [
    {
     "data": {
      "text/plain": [
       "217637"
      ]
     },
     "execution_count": 17,
     "metadata": {},
     "output_type": "execute_result"
    }
   ],
   "source": [
    "microdados_enem['TP_ESTADO_CIVIL'].isna().sum()"
   ]
  },
  {
   "cell_type": "code",
   "execution_count": 18,
   "metadata": {},
   "outputs": [],
   "source": [
    "microdados_enem['TP_ESTADO_CIVIL'] = microdados_enem['TP_ESTADO_CIVIL'].fillna(4)"
   ]
  },
  {
   "cell_type": "code",
   "execution_count": 19,
   "metadata": {},
   "outputs": [
    {
     "data": {
      "text/plain": [
       "0"
      ]
     },
     "execution_count": 19,
     "metadata": {},
     "output_type": "execute_result"
    }
   ],
   "source": [
    "microdados_enem['TP_ESTADO_CIVIL'].isna().sum()"
   ]
  },
  {
   "cell_type": "markdown",
   "metadata": {},
   "source": [
    "4. A coluna idade possui apenas 97 ausentes, iremos remover essas linhas do dataset:"
   ]
  },
  {
   "cell_type": "raw",
   "metadata": {},
   "source": [
    "Missing values:\n",
    "NU_IDADE                        97"
   ]
  },
  {
   "cell_type": "code",
   "execution_count": 20,
   "metadata": {},
   "outputs": [],
   "source": [
    "microdados_enem = microdados_enem.dropna(subset=['NU_IDADE'])"
   ]
  },
  {
   "cell_type": "code",
   "execution_count": 21,
   "metadata": {},
   "outputs": [
    {
     "data": {
      "text/plain": [
       "0"
      ]
     },
     "execution_count": 21,
     "metadata": {},
     "output_type": "execute_result"
    }
   ],
   "source": [
    "microdados_enem['NU_IDADE'].isna().sum()"
   ]
  },
  {
   "cell_type": "markdown",
   "metadata": {},
   "source": [
    "5. Para as variáveis *CO_MUNICIPIO_NASCIMENTO* e *CO_UF_NASCIMENTO* podemos preencher os valores ausentes a partir das colunas *CO_MUNICIPIO_RESIDENCIA* e *CO_UF_RESIDENCIA* para tanto iremos verificar a correlação entre as variáveis:"
   ]
  },
  {
   "cell_type": "raw",
   "metadata": {},
   "source": [
    "Missing values:\n",
    "CO_MUNICIPIO_NASCIMENTO     185783\n",
    "CO_UF_NASCIMENTO            185783"
   ]
  },
  {
   "cell_type": "code",
   "execution_count": 22,
   "metadata": {},
   "outputs": [
    {
     "data": {
      "text/plain": [
       "<matplotlib.axes._subplots.AxesSubplot at 0x1376670d0>"
      ]
     },
     "execution_count": 22,
     "metadata": {},
     "output_type": "execute_result"
    },
    {
     "data": {
      "image/png": "[encoded data removed]",
      "text/plain": [
       "<Figure size 432x288 with 2 Axes>"
      ]
     },
     "metadata": {
      "needs_background": "light"
     },
     "output_type": "display_data"
    }
   ],
   "source": [
    "sns.heatmap(microdados_enem[['CO_MUNICIPIO_NASCIMENTO', 'CO_MUNICIPIO_RESIDENCIA']].corr().round(4), annot=True)"
   ]
  },
  {
   "cell_type": "markdown",
   "metadata": {},
   "source": [
    "Observando a correlação de 87,57% e a fração de ausentes 187.783 em 5.513.747 entradas substituir a informação de RESIDENCIA por NASCIMENTO mostra-se uma solução razoável que insere uma imprecisão estatisticamente pouco relevante. "
   ]
  },
  {
   "cell_type": "code",
   "execution_count": 23,
   "metadata": {},
   "outputs": [],
   "source": [
    "microdados_enem['CO_MUNICIPIO_NASCIMENTO'].fillna(microdados_enem['CO_MUNICIPIO_RESIDENCIA'], inplace = True)\n",
    "microdados_enem['CO_UF_NASCIMENTO'].fillna(microdados_enem['CO_UF_RESIDENCIA'], inplace = True)"
   ]
  },
  {
   "cell_type": "code",
   "execution_count": 24,
   "metadata": {},
   "outputs": [
    {
     "data": {
      "text/plain": [
       "CO_MUNICIPIO_NASCIMENTO    0\n",
       "CO_UF_NASCIMENTO           0\n",
       "dtype: int64"
      ]
     },
     "execution_count": 24,
     "metadata": {},
     "output_type": "execute_result"
    }
   ],
   "source": [
    "microdados_enem[['CO_MUNICIPIO_NASCIMENTO', 'CO_UF_NASCIMENTO']].isna().sum()"
   ]
  },
  {
   "cell_type": "markdown",
   "metadata": {},
   "source": [
    "As colunas de notas são colunas target e devem estar completamente preenchidas, portanto temos optar por remover os ausentes ou completá-la."
   ]
  },
  {
   "cell_type": "raw",
   "metadata": {},
   "source": [
    "TP_PRESENCA_CN            155\n",
    "TP_PRESENCA_CH            155\n",
    "TP_PRESENCA_LC            155\n",
    "TP_PRESENCA_MT            155\n",
    "CO_PROVA_CN           1608648\n",
    "CO_PROVA_CH           1365483\n",
    "CO_PROVA_LC           1365483\n",
    "CO_PROVA_MT           1608648\n",
    "NU_NOTA_CN            1608648\n",
    "NU_NOTA_CH            1365483\n",
    "NU_NOTA_LC            1365483\n",
    "NU_NOTA_MT            1608648\n",
    "TX_RESPOSTAS_CN       1608648\n",
    "TX_RESPOSTAS_CH       1365483\n",
    "TX_RESPOSTAS_LC       1365483\n",
    "TX_RESPOSTAS_MT       1608648\n",
    "TX_GABARITO_CN        1608648\n",
    "TX_GABARITO_CH        1365483\n",
    "TX_GABARITO_LC        1365483\n",
    "TX_GABARITO_MT        1608648\n",
    "TP_STATUS_REDACAO     1365483\n",
    "NU_NOTA_COMP1         1365483\n",
    "NU_NOTA_COMP2         1365483\n",
    "NU_NOTA_COMP3         1365483\n",
    "NU_NOTA_COMP4         1365483\n",
    "NU_NOTA_COMP5         1365483\n",
    "NU_NOTA_REDACAO       1365483"
   ]
  },
  {
   "cell_type": "code",
   "execution_count": 25,
   "metadata": {},
   "outputs": [],
   "source": [
    "microdados_enem = microdados_enem.dropna(subset=['NU_NOTA_CN', 'NU_NOTA_CH', 'NU_NOTA_LC',\n",
    "                         'NU_NOTA_MT', 'NU_NOTA_REDACAO'])"
   ]
  },
  {
   "cell_type": "code",
   "execution_count": 26,
   "metadata": {},
   "outputs": [
    {
     "data": {
      "text/plain": [
       "CO_MUNICIPIO_PROVA    0\n",
       "CO_UF_PROVA           0\n",
       "TP_PRESENCA_CN        0\n",
       "TP_PRESENCA_CH        0\n",
       "TP_PRESENCA_LC        0\n",
       "TP_PRESENCA_MT        0\n",
       "CO_PROVA_CN           0\n",
       "CO_PROVA_CH           0\n",
       "CO_PROVA_LC           0\n",
       "CO_PROVA_MT           0\n",
       "NU_NOTA_CN            0\n",
       "NU_NOTA_CH            0\n",
       "NU_NOTA_LC            0\n",
       "NU_NOTA_MT            0\n",
       "TX_RESPOSTAS_CN       0\n",
       "TX_RESPOSTAS_CH       0\n",
       "TX_RESPOSTAS_LC       0\n",
       "TX_RESPOSTAS_MT       0\n",
       "TP_LINGUA             0\n",
       "TX_GABARITO_CN        0\n",
       "TX_GABARITO_CH        0\n",
       "TX_GABARITO_LC        0\n",
       "TX_GABARITO_MT        0\n",
       "TP_STATUS_REDACAO     0\n",
       "NU_NOTA_COMP1         0\n",
       "NU_NOTA_COMP2         0\n",
       "NU_NOTA_COMP3         0\n",
       "NU_NOTA_COMP4         0\n",
       "NU_NOTA_COMP5         0\n",
       "NU_NOTA_REDACAO       0\n",
       "dtype: int64"
      ]
     },
     "execution_count": 26,
     "metadata": {},
     "output_type": "execute_result"
    }
   ],
   "source": [
    "microdados_enem[['CO_MUNICIPIO_PROVA', 'CO_UF_PROVA','TP_PRESENCA_CN', 'TP_PRESENCA_CH', 'TP_PRESENCA_LC',\n",
    "       'TP_PRESENCA_MT', 'CO_PROVA_CN', 'CO_PROVA_CH', 'CO_PROVA_LC',\n",
    "       'CO_PROVA_MT','NU_NOTA_CN', 'NU_NOTA_CH', 'NU_NOTA_LC',\n",
    "       'NU_NOTA_MT', 'TX_RESPOSTAS_CN', 'TX_RESPOSTAS_CH',\n",
    "       'TX_RESPOSTAS_LC', 'TX_RESPOSTAS_MT', 'TP_LINGUA',\n",
    "       'TX_GABARITO_CN', 'TX_GABARITO_CH', 'TX_GABARITO_LC',\n",
    "       'TX_GABARITO_MT', 'TP_STATUS_REDACAO', 'NU_NOTA_COMP1',\n",
    "       'NU_NOTA_COMP2', 'NU_NOTA_COMP3', 'NU_NOTA_COMP4', 'NU_NOTA_COMP5',\n",
    "       'NU_NOTA_REDACAO']].isna().sum()"
   ]
  },
  {
   "cell_type": "markdown",
   "metadata": {},
   "source": [
    "Existem quatro linhas com valor ausente na questão 26 e iremos removê-las:"
   ]
  },
  {
   "cell_type": "code",
   "execution_count": 27,
   "metadata": {},
   "outputs": [
    {
     "data": {
      "text/plain": [
       "Q001    0\n",
       "Q002    0\n",
       "Q003    0\n",
       "Q004    0\n",
       "Q005    0\n",
       "Q006    0\n",
       "Q007    0\n",
       "Q008    0\n",
       "Q009    0\n",
       "Q010    0\n",
       "Q011    0\n",
       "Q012    0\n",
       "Q013    0\n",
       "Q014    0\n",
       "Q015    0\n",
       "Q016    0\n",
       "Q017    0\n",
       "Q018    0\n",
       "Q019    0\n",
       "Q020    0\n",
       "Q021    0\n",
       "Q022    0\n",
       "Q023    0\n",
       "Q024    0\n",
       "Q025    0\n",
       "Q026    4\n",
       "Q027    0\n",
       "dtype: int64"
      ]
     },
     "execution_count": 27,
     "metadata": {},
     "output_type": "execute_result"
    }
   ],
   "source": [
    "microdados_enem[['Q001', 'Q002', 'Q003', 'Q004', 'Q005', 'Q006',\n",
    "       'Q007', 'Q008', 'Q009', 'Q010', 'Q011', 'Q012', 'Q013', 'Q014',\n",
    "       'Q015', 'Q016', 'Q017', 'Q018', 'Q019', 'Q020', 'Q021', 'Q022',\n",
    "       'Q023', 'Q024', 'Q025', 'Q026', 'Q027']].isna().sum()"
   ]
  },
  {
   "cell_type": "code",
   "execution_count": 28,
   "metadata": {},
   "outputs": [],
   "source": [
    "microdados_enem = microdados_enem.dropna(subset=['Q026'])"
   ]
  },
  {
   "cell_type": "markdown",
   "metadata": {},
   "source": [
    "#### Resultado da primeira etapa de seleção de características"
   ]
  },
  {
   "cell_type": "markdown",
   "metadata": {},
   "source": [
    "Finalmente separaremos as características em dois grupos: \n",
    "\n",
    "*microdados_enem_features* - são caractrísticas que descrevem os alunos \n",
    "\n",
    "*microdados_enem_target* - são as característicss-alvo referentes aos resultados dos alunos nas provas. "
   ]
  },
  {
   "cell_type": "code",
   "execution_count": 29,
   "metadata": {},
   "outputs": [],
   "source": [
    "microdados_enem_features = ['NU_INSCRICAO', 'CO_MUNICIPIO_RESIDENCIA',\n",
    "       'CO_UF_RESIDENCIA', 'NU_IDADE', 'TP_SEXO', 'TP_ESTADO_CIVIL', 'TP_COR_RACA',\n",
    "       'TP_NACIONALIDADE', 'CO_MUNICIPIO_NASCIMENTO','CO_UF_NASCIMENTO', \n",
    "       'TP_ST_CONCLUSAO', 'TP_ANO_CONCLUIU', 'TP_ESCOLA', 'IN_TREINEIRO', \n",
    "       'Q001', 'Q002', 'Q003', 'Q004', 'Q005', 'Q006','Q007', 'Q008', 'Q009', 'Q010', \n",
    "       'Q011', 'Q012', 'Q013', 'Q014', 'Q015', 'Q016', 'Q017', 'Q018', 'Q019', 'Q020', \n",
    "       'Q021', 'Q022','Q023', 'Q024', 'Q025', 'Q026', 'Q027']\n",
    "\n",
    "\n",
    "microdados_enem_target = ['NU_NOTA_CN', 'NU_NOTA_CH', 'NU_NOTA_LC',\n",
    "                          'NU_NOTA_MT', 'NU_NOTA_REDACAO']"
   ]
  },
  {
   "cell_type": "code",
   "execution_count": 30,
   "metadata": {},
   "outputs": [],
   "source": [
    "X = microdados_enem[microdados_enem_features]"
   ]
  },
  {
   "cell_type": "code",
   "execution_count": 31,
   "metadata": {},
   "outputs": [],
   "source": [
    "y = microdados_enem[microdados_enem_target]"
   ]
  },
  {
   "cell_type": "code",
   "execution_count": 32,
   "metadata": {},
   "outputs": [
    {
     "data": {
      "text/html": [
       "<div>\n",
       "<style scoped>\n",
       "    .dataframe tbody tr th:only-of-type {\n",
       "        vertical-align: middle;\n",
       "    }\n",
       "\n",
       "    .dataframe tbody tr th {\n",
       "        vertical-align: top;\n",
       "    }\n",
       "\n",
       "    .dataframe thead th {\n",
       "        text-align: right;\n",
       "    }\n",
       "</style>\n",
       "<table border=\"1\" class=\"dataframe\">\n",
       "  <thead>\n",
       "    <tr style=\"text-align: right;\">\n",
       "      <th></th>\n",
       "      <th>NU_INSCRICAO</th>\n",
       "      <th>CO_MUNICIPIO_RESIDENCIA</th>\n",
       "      <th>CO_UF_RESIDENCIA</th>\n",
       "      <th>NU_IDADE</th>\n",
       "      <th>TP_SEXO</th>\n",
       "      <th>TP_ESTADO_CIVIL</th>\n",
       "      <th>TP_COR_RACA</th>\n",
       "      <th>TP_NACIONALIDADE</th>\n",
       "      <th>CO_MUNICIPIO_NASCIMENTO</th>\n",
       "      <th>CO_UF_NASCIMENTO</th>\n",
       "      <th>...</th>\n",
       "      <th>Q018</th>\n",
       "      <th>Q019</th>\n",
       "      <th>Q020</th>\n",
       "      <th>Q021</th>\n",
       "      <th>Q022</th>\n",
       "      <th>Q023</th>\n",
       "      <th>Q024</th>\n",
       "      <th>Q025</th>\n",
       "      <th>Q026</th>\n",
       "      <th>Q027</th>\n",
       "    </tr>\n",
       "  </thead>\n",
       "  <tbody>\n",
       "    <tr>\n",
       "      <th>1</th>\n",
       "      <td>180007197856</td>\n",
       "      <td>2111102</td>\n",
       "      <td>21</td>\n",
       "      <td>23.0</td>\n",
       "      <td>F</td>\n",
       "      <td>0.0</td>\n",
       "      <td>3</td>\n",
       "      <td>1</td>\n",
       "      <td>2111102.0</td>\n",
       "      <td>21.0</td>\n",
       "      <td>...</td>\n",
       "      <td>A</td>\n",
       "      <td>B</td>\n",
       "      <td>A</td>\n",
       "      <td>A</td>\n",
       "      <td>B</td>\n",
       "      <td>A</td>\n",
       "      <td>A</td>\n",
       "      <td>A</td>\n",
       "      <td>A</td>\n",
       "      <td>A</td>\n",
       "    </tr>\n",
       "    <tr>\n",
       "      <th>5</th>\n",
       "      <td>180007239581</td>\n",
       "      <td>2507507</td>\n",
       "      <td>25</td>\n",
       "      <td>23.0</td>\n",
       "      <td>F</td>\n",
       "      <td>0.0</td>\n",
       "      <td>1</td>\n",
       "      <td>1</td>\n",
       "      <td>2507507.0</td>\n",
       "      <td>25.0</td>\n",
       "      <td>...</td>\n",
       "      <td>A</td>\n",
       "      <td>B</td>\n",
       "      <td>A</td>\n",
       "      <td>A</td>\n",
       "      <td>B</td>\n",
       "      <td>A</td>\n",
       "      <td>B</td>\n",
       "      <td>B</td>\n",
       "      <td>A</td>\n",
       "      <td>A</td>\n",
       "    </tr>\n",
       "    <tr>\n",
       "      <th>7</th>\n",
       "      <td>180008090447</td>\n",
       "      <td>2207702</td>\n",
       "      <td>22</td>\n",
       "      <td>39.0</td>\n",
       "      <td>M</td>\n",
       "      <td>1.0</td>\n",
       "      <td>3</td>\n",
       "      <td>1</td>\n",
       "      <td>2205706.0</td>\n",
       "      <td>22.0</td>\n",
       "      <td>...</td>\n",
       "      <td>A</td>\n",
       "      <td>C</td>\n",
       "      <td>B</td>\n",
       "      <td>A</td>\n",
       "      <td>B</td>\n",
       "      <td>A</td>\n",
       "      <td>B</td>\n",
       "      <td>B</td>\n",
       "      <td>A</td>\n",
       "      <td>A</td>\n",
       "    </tr>\n",
       "    <tr>\n",
       "      <th>8</th>\n",
       "      <td>180008257068</td>\n",
       "      <td>2304400</td>\n",
       "      <td>23</td>\n",
       "      <td>19.0</td>\n",
       "      <td>M</td>\n",
       "      <td>0.0</td>\n",
       "      <td>3</td>\n",
       "      <td>1</td>\n",
       "      <td>2304400.0</td>\n",
       "      <td>23.0</td>\n",
       "      <td>...</td>\n",
       "      <td>A</td>\n",
       "      <td>B</td>\n",
       "      <td>B</td>\n",
       "      <td>A</td>\n",
       "      <td>B</td>\n",
       "      <td>A</td>\n",
       "      <td>A</td>\n",
       "      <td>A</td>\n",
       "      <td>B</td>\n",
       "      <td>A</td>\n",
       "    </tr>\n",
       "    <tr>\n",
       "      <th>9</th>\n",
       "      <td>180008202044</td>\n",
       "      <td>5103403</td>\n",
       "      <td>51</td>\n",
       "      <td>25.0</td>\n",
       "      <td>F</td>\n",
       "      <td>0.0</td>\n",
       "      <td>3</td>\n",
       "      <td>1</td>\n",
       "      <td>2903201.0</td>\n",
       "      <td>29.0</td>\n",
       "      <td>...</td>\n",
       "      <td>A</td>\n",
       "      <td>B</td>\n",
       "      <td>A</td>\n",
       "      <td>A</td>\n",
       "      <td>B</td>\n",
       "      <td>A</td>\n",
       "      <td>A</td>\n",
       "      <td>A</td>\n",
       "      <td>A</td>\n",
       "      <td>A</td>\n",
       "    </tr>\n",
       "  </tbody>\n",
       "</table>\n",
       "<p>5 rows × 41 columns</p>\n",
       "</div>"
      ],
      "text/plain": [
       "   NU_INSCRICAO  CO_MUNICIPIO_RESIDENCIA  CO_UF_RESIDENCIA  NU_IDADE TP_SEXO  \\\n",
       "1  180007197856                  2111102                21      23.0       F   \n",
       "5  180007239581                  2507507                25      23.0       F   \n",
       "7  180008090447                  2207702                22      39.0       M   \n",
       "8  180008257068                  2304400                23      19.0       M   \n",
       "9  180008202044                  5103403                51      25.0       F   \n",
       "\n",
       "   TP_ESTADO_CIVIL  TP_COR_RACA  TP_NACIONALIDADE  CO_MUNICIPIO_NASCIMENTO  \\\n",
       "1              0.0            3                 1                2111102.0   \n",
       "5              0.0            1                 1                2507507.0   \n",
       "7              1.0            3                 1                2205706.0   \n",
       "8              0.0            3                 1                2304400.0   \n",
       "9              0.0            3                 1                2903201.0   \n",
       "\n",
       "   CO_UF_NASCIMENTO  ...  Q018  Q019  Q020  Q021 Q022 Q023 Q024 Q025  Q026  \\\n",
       "1              21.0  ...     A     B     A     A    B    A    A    A     A   \n",
       "5              25.0  ...     A     B     A     A    B    A    B    B     A   \n",
       "7              22.0  ...     A     C     B     A    B    A    B    B     A   \n",
       "8              23.0  ...     A     B     B     A    B    A    A    A     B   \n",
       "9              29.0  ...     A     B     A     A    B    A    A    A     A   \n",
       "\n",
       "  Q027  \n",
       "1    A  \n",
       "5    A  \n",
       "7    A  \n",
       "8    A  \n",
       "9    A  \n",
       "\n",
       "[5 rows x 41 columns]"
      ]
     },
     "execution_count": 32,
     "metadata": {},
     "output_type": "execute_result"
    }
   ],
   "source": [
    "X.head()"
   ]
  },
  {
   "cell_type": "code",
   "execution_count": 33,
   "metadata": {},
   "outputs": [
    {
     "data": {
      "text/html": [
       "<div>\n",
       "<style scoped>\n",
       "    .dataframe tbody tr th:only-of-type {\n",
       "        vertical-align: middle;\n",
       "    }\n",
       "\n",
       "    .dataframe tbody tr th {\n",
       "        vertical-align: top;\n",
       "    }\n",
       "\n",
       "    .dataframe thead th {\n",
       "        text-align: right;\n",
       "    }\n",
       "</style>\n",
       "<table border=\"1\" class=\"dataframe\">\n",
       "  <thead>\n",
       "    <tr style=\"text-align: right;\">\n",
       "      <th></th>\n",
       "      <th>NU_NOTA_CN</th>\n",
       "      <th>NU_NOTA_CH</th>\n",
       "      <th>NU_NOTA_LC</th>\n",
       "      <th>NU_NOTA_MT</th>\n",
       "      <th>NU_NOTA_REDACAO</th>\n",
       "    </tr>\n",
       "  </thead>\n",
       "  <tbody>\n",
       "    <tr>\n",
       "      <th>1</th>\n",
       "      <td>521.0</td>\n",
       "      <td>568.7</td>\n",
       "      <td>513.1</td>\n",
       "      <td>480.3</td>\n",
       "      <td>280.0</td>\n",
       "    </tr>\n",
       "    <tr>\n",
       "      <th>5</th>\n",
       "      <td>461.8</td>\n",
       "      <td>564.0</td>\n",
       "      <td>466.8</td>\n",
       "      <td>538.8</td>\n",
       "      <td>580.0</td>\n",
       "    </tr>\n",
       "    <tr>\n",
       "      <th>7</th>\n",
       "      <td>499.3</td>\n",
       "      <td>663.2</td>\n",
       "      <td>605.2</td>\n",
       "      <td>733.8</td>\n",
       "      <td>680.0</td>\n",
       "    </tr>\n",
       "    <tr>\n",
       "      <th>8</th>\n",
       "      <td>411.8</td>\n",
       "      <td>429.8</td>\n",
       "      <td>445.2</td>\n",
       "      <td>459.0</td>\n",
       "      <td>340.0</td>\n",
       "    </tr>\n",
       "    <tr>\n",
       "      <th>9</th>\n",
       "      <td>469.4</td>\n",
       "      <td>650.2</td>\n",
       "      <td>606.6</td>\n",
       "      <td>525.4</td>\n",
       "      <td>740.0</td>\n",
       "    </tr>\n",
       "  </tbody>\n",
       "</table>\n",
       "</div>"
      ],
      "text/plain": [
       "   NU_NOTA_CN  NU_NOTA_CH  NU_NOTA_LC  NU_NOTA_MT  NU_NOTA_REDACAO\n",
       "1       521.0       568.7       513.1       480.3            280.0\n",
       "5       461.8       564.0       466.8       538.8            580.0\n",
       "7       499.3       663.2       605.2       733.8            680.0\n",
       "8       411.8       429.8       445.2       459.0            340.0\n",
       "9       469.4       650.2       606.6       525.4            740.0"
      ]
     },
     "execution_count": 33,
     "metadata": {},
     "output_type": "execute_result"
    }
   ],
   "source": [
    "y.head()"
   ]
  },
  {
   "cell_type": "markdown",
   "metadata": {},
   "source": [
    "A tabela *target* possui as notas dos alunos nas provas do ENEM. Utilizaremos elas para criar novas colunas target com as  médias dos alunos considerando os cursos de Medicina, Direito e Engenharia, e a média simples das notas."
   ]
  },
  {
   "cell_type": "code",
   "execution_count": 34,
   "metadata": {},
   "outputs": [],
   "source": [
    "med_weights_usp = {\"CN\": 2.0, \"CH\": 2.0, \"LC\": 4.0, \"MT\":3.0 , \"REDACAO\":  2.0, \"TOTAL\": 13.0}\n",
    "med_cuts_usp = {\"AC\" : 858.44, \"EP\": 793.29, \"PPI\": 767.15}\n",
    "med_weights_ufrj = {\"CN\": 2.0, \"CH\": 1.0, \"LC\": 2.0, \"MT\":1.0 , \"REDACAO\":  3.0, \"TOTAL\": 9.0}\n",
    "med_cuts_ufrj = {\"AC\" : 822.46, \"EP\": 805.53}\n",
    "\n",
    "eng_weights_ufrj = {\"CN\": 4.0, \"CH\": 2.0, \"LC\": 2.0, \"MT\":4.0 , \"REDACAO\":  3.0, \"TOTAL\": 15.0}\n",
    "eng_cuts_ufrj = {\"AC\" : 774.29, \"EP\": 664.61}\n",
    "\n",
    "dir_weights_ufrj = {\"CN\": 1.0, \"CH\": 2.0, \"LC\": 2.0, \"MT\":1.0 , \"REDACAO\":  3.0, \"TOTAL\": 8.0}\n",
    "dir_cuts_ufrj = {\"AC\" : 789.17, \"EP\": 771.61}"
   ]
  },
  {
   "cell_type": "markdown",
   "metadata": {},
   "source": [
    "Fonte: http://portalbi.mec.gov.br/portal-bi/relatorios/simulador_sisu/painel_direto.php\n",
    "\n",
    "\n",
    "https://sisusimulator.com.br/ufrj/cidade-universitaria/engenharia-civil-bacharelado"
   ]
  },
  {
   "cell_type": "code",
   "execution_count": 35,
   "metadata": {},
   "outputs": [
    {
     "name": "stderr",
     "output_type": "stream",
     "text": [
      "/Users/kizzyterra/Workspace/enem-project/venv/lib/python3.7/site-packages/ipykernel_launcher.py:1: SettingWithCopyWarning: \n",
      "A value is trying to be set on a copy of a slice from a DataFrame.\n",
      "Try using .loc[row_indexer,col_indexer] = value instead\n",
      "\n",
      "See the caveats in the documentation: http://pandas.pydata.org/pandas-docs/stable/user_guide/indexing.html#returning-a-view-versus-a-copy\n",
      "  \"\"\"Entry point for launching an IPython kernel.\n",
      "/Users/kizzyterra/Workspace/enem-project/venv/lib/python3.7/site-packages/ipykernel_launcher.py:5: SettingWithCopyWarning: \n",
      "A value is trying to be set on a copy of a slice from a DataFrame.\n",
      "Try using .loc[row_indexer,col_indexer] = value instead\n",
      "\n",
      "See the caveats in the documentation: http://pandas.pydata.org/pandas-docs/stable/user_guide/indexing.html#returning-a-view-versus-a-copy\n",
      "  \"\"\"\n",
      "/Users/kizzyterra/Workspace/enem-project/venv/lib/python3.7/site-packages/ipykernel_launcher.py:9: SettingWithCopyWarning: \n",
      "A value is trying to be set on a copy of a slice from a DataFrame.\n",
      "Try using .loc[row_indexer,col_indexer] = value instead\n",
      "\n",
      "See the caveats in the documentation: http://pandas.pydata.org/pandas-docs/stable/user_guide/indexing.html#returning-a-view-versus-a-copy\n",
      "  if __name__ == '__main__':\n"
     ]
    }
   ],
   "source": [
    "y['MEAN'] = (y.NU_NOTA_CN+ y.NU_NOTA_CH+ y.NU_NOTA_LC + y.NU_NOTA_MT + y.NU_NOTA_REDACAO)/5\n",
    "\n",
    "y['DIR_UFRJ'] = (y.NU_NOTA_CN*dir_weights_ufrj['CN'] + y.NU_NOTA_CH*dir_weights_ufrj['CH'] + \\\n",
    "              y.NU_NOTA_LC*dir_weights_ufrj['LC'] + y.NU_NOTA_MT*dir_weights_ufrj['MT'] + \\\n",
    "              y.NU_NOTA_REDACAO*dir_weights_ufrj['REDACAO'])/dir_weights_ufrj['TOTAL']\n",
    "\n",
    "y['ENG_UFRJ'] = (y.NU_NOTA_CN*eng_weights_ufrj['CN'] + y.NU_NOTA_CH*eng_weights_ufrj['CH'] + \\\n",
    "              y.NU_NOTA_LC*eng_weights_ufrj['LC'] + y.NU_NOTA_MT*eng_weights_ufrj['MT'] + \\\n",
    "              y.NU_NOTA_REDACAO*eng_weights_ufrj['REDACAO'])/eng_weights_ufrj['TOTAL']"
   ]
  },
  {
   "cell_type": "markdown",
   "metadata": {},
   "source": [
    "Além de criar colunas com as médias das notas criamos colunas categóricas numéricas para os cursos de medicina que indicam se a média do aluno seria suficente para superar a note de corte mínima para aprovação:"
   ]
  },
  {
   "cell_type": "code",
   "execution_count": 36,
   "metadata": {
    "scrolled": true
   },
   "outputs": [
    {
     "name": "stderr",
     "output_type": "stream",
     "text": [
      "/Users/kizzyterra/Workspace/enem-project/venv/lib/python3.7/site-packages/ipykernel_launcher.py:3: SettingWithCopyWarning: \n",
      "A value is trying to be set on a copy of a slice from a DataFrame.\n",
      "Try using .loc[row_indexer,col_indexer] = value instead\n",
      "\n",
      "See the caveats in the documentation: http://pandas.pydata.org/pandas-docs/stable/user_guide/indexing.html#returning-a-view-versus-a-copy\n",
      "  This is separate from the ipykernel package so we can avoid doing imports until\n",
      "/Users/kizzyterra/Workspace/enem-project/venv/lib/python3.7/site-packages/ipykernel_launcher.py:4: SettingWithCopyWarning: \n",
      "A value is trying to be set on a copy of a slice from a DataFrame.\n",
      "Try using .loc[row_indexer,col_indexer] = value instead\n",
      "\n",
      "See the caveats in the documentation: http://pandas.pydata.org/pandas-docs/stable/user_guide/indexing.html#returning-a-view-versus-a-copy\n",
      "  after removing the cwd from sys.path.\n",
      "/Users/kizzyterra/Workspace/enem-project/venv/lib/python3.7/site-packages/ipykernel_launcher.py:5: SettingWithCopyWarning: \n",
      "A value is trying to be set on a copy of a slice from a DataFrame.\n",
      "Try using .loc[row_indexer,col_indexer] = value instead\n",
      "\n",
      "See the caveats in the documentation: http://pandas.pydata.org/pandas-docs/stable/user_guide/indexing.html#returning-a-view-versus-a-copy\n",
      "  \"\"\"\n",
      "/Users/kizzyterra/Workspace/enem-project/venv/lib/python3.7/site-packages/ipykernel_launcher.py:9: SettingWithCopyWarning: \n",
      "A value is trying to be set on a copy of a slice from a DataFrame.\n",
      "Try using .loc[row_indexer,col_indexer] = value instead\n",
      "\n",
      "See the caveats in the documentation: http://pandas.pydata.org/pandas-docs/stable/user_guide/indexing.html#returning-a-view-versus-a-copy\n",
      "  if __name__ == '__main__':\n",
      "/Users/kizzyterra/Workspace/enem-project/venv/lib/python3.7/site-packages/ipykernel_launcher.py:10: SettingWithCopyWarning: \n",
      "A value is trying to be set on a copy of a slice from a DataFrame.\n",
      "Try using .loc[row_indexer,col_indexer] = value instead\n",
      "\n",
      "See the caveats in the documentation: http://pandas.pydata.org/pandas-docs/stable/user_guide/indexing.html#returning-a-view-versus-a-copy\n",
      "  # Remove the CWD from sys.path while we load stuff.\n",
      "/Users/kizzyterra/Workspace/enem-project/venv/lib/python3.7/site-packages/ipykernel_launcher.py:11: SettingWithCopyWarning: \n",
      "A value is trying to be set on a copy of a slice from a DataFrame.\n",
      "Try using .loc[row_indexer,col_indexer] = value instead\n",
      "\n",
      "See the caveats in the documentation: http://pandas.pydata.org/pandas-docs/stable/user_guide/indexing.html#returning-a-view-versus-a-copy\n",
      "  # This is added back by InteractiveShellApp.init_path()\n",
      "/Users/kizzyterra/Workspace/enem-project/venv/lib/python3.7/site-packages/ipykernel_launcher.py:12: SettingWithCopyWarning: \n",
      "A value is trying to be set on a copy of a slice from a DataFrame.\n",
      "Try using .loc[row_indexer,col_indexer] = value instead\n",
      "\n",
      "See the caveats in the documentation: http://pandas.pydata.org/pandas-docs/stable/user_guide/indexing.html#returning-a-view-versus-a-copy\n",
      "  if sys.path[0] == '':\n"
     ]
    }
   ],
   "source": [
    "y['MED_UFRJ'] = (y.NU_NOTA_CN*med_weights_ufrj['CN'] + y.NU_NOTA_CH*med_weights_ufrj['CH'] + \\\n",
    "              y.NU_NOTA_LC*med_weights_ufrj['LC'] + y.NU_NOTA_MT*med_weights_ufrj['MT'] + \\\n",
    "              y.NU_NOTA_REDACAO*med_weights_ufrj['REDACAO'])/med_weights_ufrj['TOTAL']\n",
    "y['MED_UFRJ_AC_LABEL'] = y['MED_UFRJ'].map(lambda x: 1 if x >= med_cuts_ufrj['AC'] else 0)\n",
    "y['MED_UFRJ_EP_LABEL'] = y['MED_UFRJ'].map(lambda x: 1 if x >= med_cuts_ufrj['EP'] else 0)\n",
    "\n",
    "y['MED_USP'] = (y.NU_NOTA_CN*med_weights_usp['CN'] + y.NU_NOTA_CH*med_weights_usp['CH'] + \\\n",
    "              y.NU_NOTA_LC*med_weights_usp['LC'] + y.NU_NOTA_MT*med_weights_usp['MT'] + \\\n",
    "              y.NU_NOTA_REDACAO*med_weights_usp['REDACAO'])/med_weights_usp['TOTAL']\n",
    "y['MED_USP_AC_LABEL'] = y['MED_USP'].map(lambda x: 1 if x >= med_cuts_usp['AC'] else 0)\n",
    "y['MED_USP_EP_LABEL'] = y['MED_USP'].map(lambda x: 1 if x >= med_cuts_usp['EP'] else 0)\n",
    "y['MED_USP_PPI_LABEL'] = y['MED_USP'].map(lambda x: 1 if x >= med_cuts_usp['PPI'] else 0)\n"
   ]
  },
  {
   "cell_type": "markdown",
   "metadata": {},
   "source": [
    "Por último fazemos uma discretização da coluna com as médias para crair cinco grupos distintos para intervalos de notas:"
   ]
  },
  {
   "cell_type": "code",
   "execution_count": 37,
   "metadata": {},
   "outputs": [
    {
     "name": "stderr",
     "output_type": "stream",
     "text": [
      "/Users/kizzyterra/Workspace/enem-project/venv/lib/python3.7/site-packages/ipykernel_launcher.py:1: SettingWithCopyWarning: \n",
      "A value is trying to be set on a copy of a slice from a DataFrame.\n",
      "Try using .loc[row_indexer,col_indexer] = value instead\n",
      "\n",
      "See the caveats in the documentation: http://pandas.pydata.org/pandas-docs/stable/user_guide/indexing.html#returning-a-view-versus-a-copy\n",
      "  \"\"\"Entry point for launching an IPython kernel.\n"
     ]
    }
   ],
   "source": [
    "y['MEAN_GROUPS'] = pd.cut(y.MEAN, bins=5, labels=[0,1,2,3,4])"
   ]
  },
  {
   "cell_type": "code",
   "execution_count": 38,
   "metadata": {},
   "outputs": [
    {
     "data": {
      "text/plain": [
       "3    1864377\n",
       "2    1837664\n",
       "4     178064\n",
       "1      13385\n",
       "0        177\n",
       "Name: MEAN_GROUPS, dtype: int64"
      ]
     },
     "execution_count": 38,
     "metadata": {},
     "output_type": "execute_result"
    }
   ],
   "source": [
    "y['MEAN_GROUPS'].value_counts()"
   ]
  },
  {
   "cell_type": "markdown",
   "metadata": {},
   "source": [
    "Finalmente, obtemos todos os dados alvos que serão utilizados para a seleção de features utilizando modelos de aprendizado de máquina."
   ]
  },
  {
   "cell_type": "code",
   "execution_count": 39,
   "metadata": {},
   "outputs": [
    {
     "data": {
      "text/plain": [
       "<matplotlib.axes._subplots.AxesSubplot at 0x1596b8250>"
      ]
     },
     "execution_count": 39,
     "metadata": {},
     "output_type": "execute_result"
    },
    {
     "data": {
      "image/png": "[encoded data removed]",
      "text/plain": [
       "<Figure size 432x288 with 1 Axes>"
      ]
     },
     "metadata": {
      "needs_background": "light"
     },
     "output_type": "display_data"
    }
   ],
   "source": [
    "sns.distplot(y.MEAN_GROUPS)"
   ]
  },
  {
   "cell_type": "markdown",
   "metadata": {},
   "source": [
    "Observação: Podemos observar que os grupos não são igualmente distribuídos. Rigorosamente, seria melhor que o fossem, mas optamos por manter dessa forma, sem perda do objetivo didático de exploração das features. Fica para o leitor o exercício de redistribuir os grupos."
   ]
  },
  {
   "cell_type": "code",
   "execution_count": 40,
   "metadata": {},
   "outputs": [
    {
     "data": {
      "text/html": [
       "<div>\n",
       "<style scoped>\n",
       "    .dataframe tbody tr th:only-of-type {\n",
       "        vertical-align: middle;\n",
       "    }\n",
       "\n",
       "    .dataframe tbody tr th {\n",
       "        vertical-align: top;\n",
       "    }\n",
       "\n",
       "    .dataframe thead th {\n",
       "        text-align: right;\n",
       "    }\n",
       "</style>\n",
       "<table border=\"1\" class=\"dataframe\">\n",
       "  <thead>\n",
       "    <tr style=\"text-align: right;\">\n",
       "      <th></th>\n",
       "      <th>NU_NOTA_CN</th>\n",
       "      <th>NU_NOTA_CH</th>\n",
       "      <th>NU_NOTA_LC</th>\n",
       "      <th>NU_NOTA_MT</th>\n",
       "      <th>NU_NOTA_REDACAO</th>\n",
       "      <th>MEAN</th>\n",
       "      <th>DIR_UFRJ</th>\n",
       "      <th>ENG_UFRJ</th>\n",
       "      <th>MED_UFRJ</th>\n",
       "      <th>MED_UFRJ_AC_LABEL</th>\n",
       "      <th>MED_UFRJ_EP_LABEL</th>\n",
       "      <th>MED_USP</th>\n",
       "      <th>MED_USP_AC_LABEL</th>\n",
       "      <th>MED_USP_EP_LABEL</th>\n",
       "      <th>MED_USP_PPI_LABEL</th>\n",
       "      <th>MEAN_GROUPS</th>\n",
       "    </tr>\n",
       "  </thead>\n",
       "  <tbody>\n",
       "    <tr>\n",
       "      <th>1</th>\n",
       "      <td>521.0</td>\n",
       "      <td>568.7</td>\n",
       "      <td>513.1</td>\n",
       "      <td>480.3</td>\n",
       "      <td>280.0</td>\n",
       "      <td>472.62</td>\n",
       "      <td>500.6125</td>\n",
       "      <td>467.253333</td>\n",
       "      <td>439.688889</td>\n",
       "      <td>0</td>\n",
       "      <td>0</td>\n",
       "      <td>479.438462</td>\n",
       "      <td>0</td>\n",
       "      <td>0</td>\n",
       "      <td>0</td>\n",
       "      <td>2</td>\n",
       "    </tr>\n",
       "    <tr>\n",
       "      <th>5</th>\n",
       "      <td>461.8</td>\n",
       "      <td>564.0</td>\n",
       "      <td>466.8</td>\n",
       "      <td>538.8</td>\n",
       "      <td>580.0</td>\n",
       "      <td>522.28</td>\n",
       "      <td>600.2750</td>\n",
       "      <td>520.266667</td>\n",
       "      <td>522.222222</td>\n",
       "      <td>0</td>\n",
       "      <td>0</td>\n",
       "      <td>515.015385</td>\n",
       "      <td>0</td>\n",
       "      <td>0</td>\n",
       "      <td>0</td>\n",
       "      <td>3</td>\n",
       "    </tr>\n",
       "    <tr>\n",
       "      <th>7</th>\n",
       "      <td>499.3</td>\n",
       "      <td>663.2</td>\n",
       "      <td>605.2</td>\n",
       "      <td>733.8</td>\n",
       "      <td>680.0</td>\n",
       "      <td>636.30</td>\n",
       "      <td>726.2375</td>\n",
       "      <td>633.946667</td>\n",
       "      <td>627.333333</td>\n",
       "      <td>0</td>\n",
       "      <td>0</td>\n",
       "      <td>639.015385</td>\n",
       "      <td>0</td>\n",
       "      <td>0</td>\n",
       "      <td>0</td>\n",
       "      <td>3</td>\n",
       "    </tr>\n",
       "    <tr>\n",
       "      <th>8</th>\n",
       "      <td>411.8</td>\n",
       "      <td>429.8</td>\n",
       "      <td>445.2</td>\n",
       "      <td>459.0</td>\n",
       "      <td>340.0</td>\n",
       "      <td>417.16</td>\n",
       "      <td>455.1000</td>\n",
       "      <td>416.880000</td>\n",
       "      <td>402.533333</td>\n",
       "      <td>0</td>\n",
       "      <td>0</td>\n",
       "      <td>424.692308</td>\n",
       "      <td>0</td>\n",
       "      <td>0</td>\n",
       "      <td>0</td>\n",
       "      <td>2</td>\n",
       "    </tr>\n",
       "    <tr>\n",
       "      <th>9</th>\n",
       "      <td>469.4</td>\n",
       "      <td>650.2</td>\n",
       "      <td>606.6</td>\n",
       "      <td>525.4</td>\n",
       "      <td>740.0</td>\n",
       "      <td>598.32</td>\n",
       "      <td>716.0500</td>\n",
       "      <td>580.853333</td>\n",
       "      <td>616.400000</td>\n",
       "      <td>0</td>\n",
       "      <td>0</td>\n",
       "      <td>593.984615</td>\n",
       "      <td>0</td>\n",
       "      <td>0</td>\n",
       "      <td>0</td>\n",
       "      <td>3</td>\n",
       "    </tr>\n",
       "  </tbody>\n",
       "</table>\n",
       "</div>"
      ],
      "text/plain": [
       "   NU_NOTA_CN  NU_NOTA_CH  NU_NOTA_LC  NU_NOTA_MT  NU_NOTA_REDACAO    MEAN  \\\n",
       "1       521.0       568.7       513.1       480.3            280.0  472.62   \n",
       "5       461.8       564.0       466.8       538.8            580.0  522.28   \n",
       "7       499.3       663.2       605.2       733.8            680.0  636.30   \n",
       "8       411.8       429.8       445.2       459.0            340.0  417.16   \n",
       "9       469.4       650.2       606.6       525.4            740.0  598.32   \n",
       "\n",
       "   DIR_UFRJ    ENG_UFRJ    MED_UFRJ  MED_UFRJ_AC_LABEL  MED_UFRJ_EP_LABEL  \\\n",
       "1  500.6125  467.253333  439.688889                  0                  0   \n",
       "5  600.2750  520.266667  522.222222                  0                  0   \n",
       "7  726.2375  633.946667  627.333333                  0                  0   \n",
       "8  455.1000  416.880000  402.533333                  0                  0   \n",
       "9  716.0500  580.853333  616.400000                  0                  0   \n",
       "\n",
       "      MED_USP  MED_USP_AC_LABEL  MED_USP_EP_LABEL  MED_USP_PPI_LABEL  \\\n",
       "1  479.438462                 0                 0                  0   \n",
       "5  515.015385                 0                 0                  0   \n",
       "7  639.015385                 0                 0                  0   \n",
       "8  424.692308                 0                 0                  0   \n",
       "9  593.984615                 0                 0                  0   \n",
       "\n",
       "  MEAN_GROUPS  \n",
       "1           2  \n",
       "5           3  \n",
       "7           3  \n",
       "8           2  \n",
       "9           3  "
      ]
     },
     "execution_count": 40,
     "metadata": {},
     "output_type": "execute_result"
    }
   ],
   "source": [
    "y.head()"
   ]
  },
  {
   "cell_type": "code",
   "execution_count": 41,
   "metadata": {},
   "outputs": [
    {
     "data": {
      "text/plain": [
       "Index(['NU_NOTA_CN', 'NU_NOTA_CH', 'NU_NOTA_LC', 'NU_NOTA_MT',\n",
       "       'NU_NOTA_REDACAO', 'MEAN', 'DIR_UFRJ', 'ENG_UFRJ', 'MED_UFRJ',\n",
       "       'MED_UFRJ_AC_LABEL', 'MED_UFRJ_EP_LABEL', 'MED_USP', 'MED_USP_AC_LABEL',\n",
       "       'MED_USP_EP_LABEL', 'MED_USP_PPI_LABEL', 'MEAN_GROUPS'],\n",
       "      dtype='object')"
      ]
     },
     "execution_count": 41,
     "metadata": {},
     "output_type": "execute_result"
    }
   ],
   "source": [
    "y.columns"
   ]
  },
  {
   "cell_type": "markdown",
   "metadata": {},
   "source": [
    "As variáveis categóricas alfanuméricas serão substituídas por variáveis numéricas para preparar os dados para a predição e seleção de features a partir de modelo:"
   ]
  },
  {
   "cell_type": "code",
   "execution_count": 42,
   "metadata": {},
   "outputs": [
    {
     "name": "stdout",
     "output_type": "stream",
     "text": [
      "<class 'pandas.core.frame.DataFrame'>\n",
      "Int64Index: 3893667 entries, 1 to 5513746\n",
      "Data columns (total 41 columns):\n",
      "NU_INSCRICAO               int64\n",
      "CO_MUNICIPIO_RESIDENCIA    int64\n",
      "CO_UF_RESIDENCIA           int64\n",
      "NU_IDADE                   float64\n",
      "TP_SEXO                    object\n",
      "TP_ESTADO_CIVIL            float64\n",
      "TP_COR_RACA                int64\n",
      "TP_NACIONALIDADE           int64\n",
      "CO_MUNICIPIO_NASCIMENTO    float64\n",
      "CO_UF_NASCIMENTO           float64\n",
      "TP_ST_CONCLUSAO            int64\n",
      "TP_ANO_CONCLUIU            int64\n",
      "TP_ESCOLA                  int64\n",
      "IN_TREINEIRO               int64\n",
      "Q001                       object\n",
      "Q002                       object\n",
      "Q003                       object\n",
      "Q004                       object\n",
      "Q005                       int64\n",
      "Q006                       object\n",
      "Q007                       object\n",
      "Q008                       object\n",
      "Q009                       object\n",
      "Q010                       object\n",
      "Q011                       object\n",
      "Q012                       object\n",
      "Q013                       object\n",
      "Q014                       object\n",
      "Q015                       object\n",
      "Q016                       object\n",
      "Q017                       object\n",
      "Q018                       object\n",
      "Q019                       object\n",
      "Q020                       object\n",
      "Q021                       object\n",
      "Q022                       object\n",
      "Q023                       object\n",
      "Q024                       object\n",
      "Q025                       object\n",
      "Q026                       object\n",
      "Q027                       object\n",
      "dtypes: float64(4), int64(10), object(27)\n",
      "memory usage: 1.2+ GB\n"
     ]
    }
   ],
   "source": [
    "X.info()"
   ]
  },
  {
   "cell_type": "code",
   "execution_count": 43,
   "metadata": {},
   "outputs": [],
   "source": [
    "categorical_cols = ['TP_SEXO','Q001', 'Q002', 'Q003','Q004', 'Q006',\n",
    "       'Q007', 'Q008', 'Q009', 'Q010', 'Q011', 'Q012', 'Q013', 'Q014',\n",
    "       'Q015', 'Q016', 'Q017', 'Q018', 'Q019', 'Q020', 'Q021', 'Q022',\n",
    "       'Q023', 'Q024', 'Q025', 'Q026', 'Q027']"
   ]
  },
  {
   "cell_type": "code",
   "execution_count": 44,
   "metadata": {},
   "outputs": [
    {
     "name": "stderr",
     "output_type": "stream",
     "text": [
      "/Users/kizzyterra/Workspace/enem-project/venv/lib/python3.7/site-packages/pandas/core/frame.py:3509: SettingWithCopyWarning: \n",
      "A value is trying to be set on a copy of a slice from a DataFrame.\n",
      "Try using .loc[row_indexer,col_indexer] = value instead\n",
      "\n",
      "See the caveats in the documentation: http://pandas.pydata.org/pandas-docs/stable/user_guide/indexing.html#returning-a-view-versus-a-copy\n",
      "  self[k1] = value[k2]\n"
     ]
    }
   ],
   "source": [
    "le = LabelEncoder()\n",
    "X[categorical_cols] = X[categorical_cols].apply(lambda col: le.fit_transform(col))"
   ]
  },
  {
   "cell_type": "code",
   "execution_count": 45,
   "metadata": {},
   "outputs": [
    {
     "name": "stdout",
     "output_type": "stream",
     "text": [
      "<class 'pandas.core.frame.DataFrame'>\n",
      "Int64Index: 3893667 entries, 1 to 5513746\n",
      "Data columns (total 41 columns):\n",
      "NU_INSCRICAO               int64\n",
      "CO_MUNICIPIO_RESIDENCIA    int64\n",
      "CO_UF_RESIDENCIA           int64\n",
      "NU_IDADE                   float64\n",
      "TP_SEXO                    int64\n",
      "TP_ESTADO_CIVIL            float64\n",
      "TP_COR_RACA                int64\n",
      "TP_NACIONALIDADE           int64\n",
      "CO_MUNICIPIO_NASCIMENTO    float64\n",
      "CO_UF_NASCIMENTO           float64\n",
      "TP_ST_CONCLUSAO            int64\n",
      "TP_ANO_CONCLUIU            int64\n",
      "TP_ESCOLA                  int64\n",
      "IN_TREINEIRO               int64\n",
      "Q001                       int64\n",
      "Q002                       int64\n",
      "Q003                       int64\n",
      "Q004                       int64\n",
      "Q005                       int64\n",
      "Q006                       int64\n",
      "Q007                       int64\n",
      "Q008                       int64\n",
      "Q009                       int64\n",
      "Q010                       int64\n",
      "Q011                       int64\n",
      "Q012                       int64\n",
      "Q013                       int64\n",
      "Q014                       int64\n",
      "Q015                       int64\n",
      "Q016                       int64\n",
      "Q017                       int64\n",
      "Q018                       int64\n",
      "Q019                       int64\n",
      "Q020                       int64\n",
      "Q021                       int64\n",
      "Q022                       int64\n",
      "Q023                       int64\n",
      "Q024                       int64\n",
      "Q025                       int64\n",
      "Q026                       int64\n",
      "Q027                       int64\n",
      "dtypes: float64(4), int64(37)\n",
      "memory usage: 1.2 GB\n"
     ]
    }
   ],
   "source": [
    "X.info()"
   ]
  },
  {
   "cell_type": "markdown",
   "metadata": {},
   "source": [
    "Concluída a etapa de seleção de features utilizando estatísticas gerais sobre os dados, passamos para a etapa de seleçãi de features utilizando técnicas de aprendizado de máquina."
   ]
  },
  {
   "cell_type": "markdown",
   "metadata": {},
   "source": [
    "Para procerder essa seleção de características precisamos definir a coluna-alvo dentre os dados target. Iremos iniciar selecionando carateríssticas a partir da previsão de médias. No entanto, temos cinco médias diferentes, por isso decidimos analisar sua correlação para verificar se a escolha de apenas uma dessas colunas é um bom proxy para as outras:"
   ]
  },
  {
   "cell_type": "code",
   "execution_count": 46,
   "metadata": {},
   "outputs": [
    {
     "data": {
      "text/html": [
       "<div>\n",
       "<style scoped>\n",
       "    .dataframe tbody tr th:only-of-type {\n",
       "        vertical-align: middle;\n",
       "    }\n",
       "\n",
       "    .dataframe tbody tr th {\n",
       "        vertical-align: top;\n",
       "    }\n",
       "\n",
       "    .dataframe thead th {\n",
       "        text-align: right;\n",
       "    }\n",
       "</style>\n",
       "<table border=\"1\" class=\"dataframe\">\n",
       "  <thead>\n",
       "    <tr style=\"text-align: right;\">\n",
       "      <th></th>\n",
       "      <th>MEAN</th>\n",
       "      <th>DIR_UFRJ</th>\n",
       "      <th>ENG_UFRJ</th>\n",
       "      <th>MED_UFRJ</th>\n",
       "      <th>MED_USP</th>\n",
       "    </tr>\n",
       "  </thead>\n",
       "  <tbody>\n",
       "    <tr>\n",
       "      <th>MEAN</th>\n",
       "      <td>1.000000</td>\n",
       "      <td>0.982404</td>\n",
       "      <td>0.995595</td>\n",
       "      <td>0.982271</td>\n",
       "      <td>0.995285</td>\n",
       "    </tr>\n",
       "    <tr>\n",
       "      <th>DIR_UFRJ</th>\n",
       "      <td>0.982404</td>\n",
       "      <td>1.000000</td>\n",
       "      <td>0.969944</td>\n",
       "      <td>0.996584</td>\n",
       "      <td>0.966688</td>\n",
       "    </tr>\n",
       "    <tr>\n",
       "      <th>ENG_UFRJ</th>\n",
       "      <td>0.995595</td>\n",
       "      <td>0.969944</td>\n",
       "      <td>1.000000</td>\n",
       "      <td>0.975361</td>\n",
       "      <td>0.990613</td>\n",
       "    </tr>\n",
       "    <tr>\n",
       "      <th>MED_UFRJ</th>\n",
       "      <td>0.982271</td>\n",
       "      <td>0.996584</td>\n",
       "      <td>0.975361</td>\n",
       "      <td>1.000000</td>\n",
       "      <td>0.965819</td>\n",
       "    </tr>\n",
       "    <tr>\n",
       "      <th>MED_USP</th>\n",
       "      <td>0.995285</td>\n",
       "      <td>0.966688</td>\n",
       "      <td>0.990613</td>\n",
       "      <td>0.965819</td>\n",
       "      <td>1.000000</td>\n",
       "    </tr>\n",
       "  </tbody>\n",
       "</table>\n",
       "</div>"
      ],
      "text/plain": [
       "              MEAN  DIR_UFRJ  ENG_UFRJ  MED_UFRJ   MED_USP\n",
       "MEAN      1.000000  0.982404  0.995595  0.982271  0.995285\n",
       "DIR_UFRJ  0.982404  1.000000  0.969944  0.996584  0.966688\n",
       "ENG_UFRJ  0.995595  0.969944  1.000000  0.975361  0.990613\n",
       "MED_UFRJ  0.982271  0.996584  0.975361  1.000000  0.965819\n",
       "MED_USP   0.995285  0.966688  0.990613  0.965819  1.000000"
      ]
     },
     "execution_count": 46,
     "metadata": {},
     "output_type": "execute_result"
    }
   ],
   "source": [
    "y[['MEAN', 'DIR_UFRJ', 'ENG_UFRJ', 'MED_UFRJ','MED_USP']].corr()"
   ]
  },
  {
   "cell_type": "code",
   "execution_count": 47,
   "metadata": {},
   "outputs": [
    {
     "data": {
      "text/plain": [
       "<matplotlib.legend.Legend at 0x15c6c2a90>"
      ]
     },
     "execution_count": 47,
     "metadata": {},
     "output_type": "execute_result"
    },
    {
     "data": {
      "image/png": "[encoded data removed]",
      "text/plain": [
       "<Figure size 1152x432 with 1 Axes>"
      ]
     },
     "metadata": {
      "needs_background": "light"
     },
     "output_type": "display_data"
    }
   ],
   "source": [
    "plt.figure(figsize=(16, 6))\n",
    "sns.distplot(y.MED_USP, label='MED_USP')\n",
    "sns.distplot(y.MEAN, label='MEAN')\n",
    "plt.legend(bbox_to_anchor=(-0.1,1), loc='upper right')"
   ]
  },
  {
   "cell_type": "code",
   "execution_count": 48,
   "metadata": {},
   "outputs": [
    {
     "data": {
      "text/plain": [
       "<matplotlib.legend.Legend at 0x156818690>"
      ]
     },
     "execution_count": 48,
     "metadata": {},
     "output_type": "execute_result"
    },
    {
     "data": {
      "image/png": "[encoded data removed]",
      "text/plain": [
       "<Figure size 1152x432 with 1 Axes>"
      ]
     },
     "metadata": {
      "needs_background": "light"
     },
     "output_type": "display_data"
    }
   ],
   "source": [
    "plt.figure(figsize=(16, 6))\n",
    "sns.distplot(y.MED_UFRJ, label='MED_UFRJ')\n",
    "sns.distplot(y.MEAN, label='MEAN')\n",
    "plt.legend(bbox_to_anchor=(-0.1,1), loc='upper right')"
   ]
  },
  {
   "cell_type": "code",
   "execution_count": 49,
   "metadata": {},
   "outputs": [
    {
     "data": {
      "text/plain": [
       "<matplotlib.legend.Legend at 0x153c729d0>"
      ]
     },
     "execution_count": 49,
     "metadata": {},
     "output_type": "execute_result"
    },
    {
     "data": {
      "image/png": "[encoded data removed]",
      "text/plain": [
       "<Figure size 1152x432 with 1 Axes>"
      ]
     },
     "metadata": {
      "needs_background": "light"
     },
     "output_type": "display_data"
    }
   ],
   "source": [
    "plt.figure(figsize=(16, 6))\n",
    "sns.distplot(y.DIR_UFRJ, label='DIR_UFRJ')\n",
    "sns.distplot(y.MEAN, label='MEAN')\n",
    "plt.legend(bbox_to_anchor=(-0.1,1), loc='upper right')"
   ]
  },
  {
   "cell_type": "code",
   "execution_count": 50,
   "metadata": {},
   "outputs": [
    {
     "data": {
      "text/plain": [
       "<matplotlib.legend.Legend at 0x1543fb910>"
      ]
     },
     "execution_count": 50,
     "metadata": {},
     "output_type": "execute_result"
    },
    {
     "data": {
      "image/png": "[encoded data removed]",
      "text/plain": [
       "<Figure size 1152x432 with 1 Axes>"
      ]
     },
     "metadata": {
      "needs_background": "light"
     },
     "output_type": "display_data"
    }
   ],
   "source": [
    "plt.figure(figsize=(16, 6))\n",
    "sns.distplot(y.ENG_UFRJ, label='ENG_UFRJ')\n",
    "sns.distplot(y.MEAN, label='MEAN')\n",
    "plt.legend(bbox_to_anchor=(-0.1,1), loc='upper right')"
   ]
  },
  {
   "cell_type": "markdown",
   "metadata": {},
   "source": [
    "Observamos então, que há uma alta correlação entre as médias e isso se deve a forma como os pesos são distribuídos. Os pesos possuem uma variação muito sutil (de 1 a 2 pontos apenas). Sendo assim, sem prejuízo iremos escolher a coluna MEAN para o primeiro método de seleção de características."
   ]
  },
  {
   "cell_type": "markdown",
   "metadata": {},
   "source": [
    "## Seleção com Aprendizado de Máquina"
   ]
  },
  {
   "cell_type": "markdown",
   "metadata": {},
   "source": [
    "### 1. Seleção Univariada"
   ]
  },
  {
   "cell_type": "markdown",
   "metadata": {},
   "source": [
    "Esse método está implementado no pacote Scikit Learn e serve para selecioar as K melhores características a partir de estatísticas univaridas. \n",
    "\n",
    "Refrências: \n",
    "1. https://scikit-learn.org/stable/modules/feature_selection.html\n",
    "2. https://scikit-learn.org/stable/modules/generated/sklearn.feature_selection.SelectKBest.html"
   ]
  },
  {
   "cell_type": "code",
   "execution_count": 51,
   "metadata": {
    "scrolled": true
   },
   "outputs": [
    {
     "data": {
      "text/plain": [
       "array([[1., 1., 1., ..., 0., 0., 0.],\n",
       "       [3., 1., 1., ..., 1., 1., 0.],\n",
       "       [4., 7., 1., ..., 1., 1., 0.],\n",
       "       ...,\n",
       "       [7., 1., 1., ..., 0., 1., 0.],\n",
       "       [4., 3., 1., ..., 2., 1., 2.],\n",
       "       [0., 1., 1., ..., 0., 1., 0.]])"
      ]
     },
     "execution_count": 51,
     "metadata": {},
     "output_type": "execute_result"
    }
   ],
   "source": [
    "feature_selector = SelectKBest(score_func=f_regression, k=10)\n",
    "feature_selector.fit_transform(X, y.MEAN)"
   ]
  },
  {
   "cell_type": "markdown",
   "metadata": {},
   "source": [
    "### SelectKBest - características mais importantes "
   ]
  },
  {
   "cell_type": "code",
   "execution_count": 52,
   "metadata": {},
   "outputs": [
    {
     "data": {
      "text/plain": [
       "Index(['Q002', 'Q006', 'Q008', 'Q010', 'Q018', 'Q019', 'Q022', 'Q024', 'Q025',\n",
       "       'Q027'],\n",
       "      dtype='object')"
      ]
     },
     "execution_count": 52,
     "metadata": {},
     "output_type": "execute_result"
    }
   ],
   "source": [
    "X.columns[feature_selector.get_support()]"
   ]
  },
  {
   "cell_type": "markdown",
   "metadata": {},
   "source": [
    "Como essas características se relacionam com a média?"
   ]
  },
  {
   "cell_type": "code",
   "execution_count": 53,
   "metadata": {
    "scrolled": false
   },
   "outputs": [
    {
     "name": "stderr",
     "output_type": "stream",
     "text": [
      "/Users/kizzyterra/Workspace/enem-project/venv/lib/python3.7/site-packages/ipykernel_launcher.py:3: SettingWithCopyWarning: \n",
      "A value is trying to be set on a copy of a slice from a DataFrame.\n",
      "Try using .loc[row_indexer,col_indexer] = value instead\n",
      "\n",
      "See the caveats in the documentation: http://pandas.pydata.org/pandas-docs/stable/user_guide/indexing.html#returning-a-view-versus-a-copy\n",
      "  This is separate from the ipykernel package so we can avoid doing imports until\n"
     ]
    },
    {
     "data": {
      "image/png": "[encoded data removed]",
      "text/plain": [
       "<Figure size 1080x1080 with 2 Axes>"
      ]
     },
     "metadata": {
      "needs_background": "light"
     },
     "output_type": "display_data"
    }
   ],
   "source": [
    "#plot heat map\n",
    "plt.figure(figsize=(15,15))\n",
    "X['MEAN'] = (y.NU_NOTA_CN+ y.NU_NOTA_CH+ y.NU_NOTA_LC + y.NU_NOTA_MT + y.NU_NOTA_REDACAO)/5\n",
    "g=sns.heatmap(X[['Q002', 'Q006', 'Q008', 'Q010', 'Q018', 'Q019', 'Q022', 'Q024', 'Q025',\n",
    "       'Q027', 'MEAN']].corr(),annot=True,cmap=\"RdYlGn\")"
   ]
  },
  {
   "cell_type": "code",
   "execution_count": 54,
   "metadata": {},
   "outputs": [
    {
     "data": {
      "text/plain": [
       "array([1.29243266e+04, 7.11539926e+04, 6.96839075e+04, 8.87092030e+04,\n",
       "       2.13451348e+04, 1.07485619e+04, 1.59203897e+05, 8.82714610e+03,\n",
       "       8.41722156e+04, 8.24722594e+04, 2.60859696e+02, 5.70178134e+03,\n",
       "       6.79064002e+04, 8.46753112e+03, 2.69644399e+05, 4.09813254e+05,\n",
       "       2.47876082e+05, 3.02201654e+05, 3.19617408e+04, 1.18306240e+06,\n",
       "       1.58642124e+05, 5.94338396e+05, 1.99990283e+05, 5.11683526e+05,\n",
       "       6.77524048e+03, 6.66104336e+04, 2.88064183e+05, 2.81320041e+05,\n",
       "       5.70670185e+04, 3.09580912e+05, 6.78403790e+04, 3.56831420e+05,\n",
       "       3.73761773e+05, 3.49425977e+04, 2.89237117e+05, 3.45943659e+05,\n",
       "       2.87964056e+05, 7.96270522e+05, 3.16133354e+05, 2.59080800e+02,\n",
       "       8.70158939e+05])"
      ]
     },
     "execution_count": 54,
     "metadata": {},
     "output_type": "execute_result"
    }
   ],
   "source": [
    "feature_selector.scores_"
   ]
  },
  {
   "cell_type": "code",
   "execution_count": 55,
   "metadata": {
    "scrolled": true
   },
   "outputs": [],
   "source": [
    "kBest_df = pd.DataFrame(dict(feature_names= X.columns[:-1] , scores = feature_selector.scores_))\\\n",
    "    .sort_values('scores',ascending = False)[:15]"
   ]
  },
  {
   "cell_type": "code",
   "execution_count": 56,
   "metadata": {},
   "outputs": [],
   "source": [
    "questoes = pd.read_csv(QUEST_FILE_PATH, sep=';')"
   ]
  },
  {
   "cell_type": "markdown",
   "metadata": {},
   "source": [
    "Mas que caracterísitcas são essas?"
   ]
  },
  {
   "cell_type": "code",
   "execution_count": 57,
   "metadata": {},
   "outputs": [
    {
     "data": {
      "text/html": [
       "<div>\n",
       "<style scoped>\n",
       "    .dataframe tbody tr th:only-of-type {\n",
       "        vertical-align: middle;\n",
       "    }\n",
       "\n",
       "    .dataframe tbody tr th {\n",
       "        vertical-align: top;\n",
       "    }\n",
       "\n",
       "    .dataframe thead th {\n",
       "        text-align: right;\n",
       "    }\n",
       "</style>\n",
       "<table border=\"1\" class=\"dataframe\">\n",
       "  <thead>\n",
       "    <tr style=\"text-align: right;\">\n",
       "      <th></th>\n",
       "      <th>feature_names</th>\n",
       "      <th>descricao</th>\n",
       "      <th>scores</th>\n",
       "    </tr>\n",
       "  </thead>\n",
       "  <tbody>\n",
       "    <tr>\n",
       "      <th>0</th>\n",
       "      <td>Q006</td>\n",
       "      <td>Qual é a renda mensal de sua família? (Some a ...</td>\n",
       "      <td>1.183062e+06</td>\n",
       "    </tr>\n",
       "    <tr>\n",
       "      <th>1</th>\n",
       "      <td>Q027</td>\n",
       "      <td>Em que tipo de escola você frequentou o Ensino...</td>\n",
       "      <td>8.701589e+05</td>\n",
       "    </tr>\n",
       "    <tr>\n",
       "      <th>2</th>\n",
       "      <td>Q024</td>\n",
       "      <td>Na sua residência tem computador?</td>\n",
       "      <td>7.962705e+05</td>\n",
       "    </tr>\n",
       "    <tr>\n",
       "      <th>3</th>\n",
       "      <td>Q008</td>\n",
       "      <td>Na sua residência tem banheiro?</td>\n",
       "      <td>5.943384e+05</td>\n",
       "    </tr>\n",
       "    <tr>\n",
       "      <th>4</th>\n",
       "      <td>Q010</td>\n",
       "      <td>Na sua residência tem carro?</td>\n",
       "      <td>5.116835e+05</td>\n",
       "    </tr>\n",
       "    <tr>\n",
       "      <th>5</th>\n",
       "      <td>Q002</td>\n",
       "      <td>Até que série sua mãe, ou a mulher responsável...</td>\n",
       "      <td>4.098133e+05</td>\n",
       "    </tr>\n",
       "    <tr>\n",
       "      <th>6</th>\n",
       "      <td>Q019</td>\n",
       "      <td>Na sua residência tem televisão em cores?</td>\n",
       "      <td>3.737618e+05</td>\n",
       "    </tr>\n",
       "    <tr>\n",
       "      <th>7</th>\n",
       "      <td>Q018</td>\n",
       "      <td>Na sua residência tem aspirador de pó?</td>\n",
       "      <td>3.568314e+05</td>\n",
       "    </tr>\n",
       "    <tr>\n",
       "      <th>8</th>\n",
       "      <td>Q022</td>\n",
       "      <td>Na sua residência tem telefone celular?</td>\n",
       "      <td>3.459437e+05</td>\n",
       "    </tr>\n",
       "    <tr>\n",
       "      <th>9</th>\n",
       "      <td>Q025</td>\n",
       "      <td>Na sua residência tem acesso à Internet?</td>\n",
       "      <td>3.161334e+05</td>\n",
       "    </tr>\n",
       "    <tr>\n",
       "      <th>10</th>\n",
       "      <td>Q016</td>\n",
       "      <td>Na sua residência tem forno micro-ondas?</td>\n",
       "      <td>3.095809e+05</td>\n",
       "    </tr>\n",
       "    <tr>\n",
       "      <th>11</th>\n",
       "      <td>Q004</td>\n",
       "      <td>A partir da apresentação de algumas ocupações ...</td>\n",
       "      <td>3.022017e+05</td>\n",
       "    </tr>\n",
       "    <tr>\n",
       "      <th>12</th>\n",
       "      <td>Q021</td>\n",
       "      <td>Na sua residência tem TV por assinatura?</td>\n",
       "      <td>2.892371e+05</td>\n",
       "    </tr>\n",
       "    <tr>\n",
       "      <th>13</th>\n",
       "      <td>Q013</td>\n",
       "      <td>Na sua residência tem freezer (independente ou...</td>\n",
       "      <td>2.880642e+05</td>\n",
       "    </tr>\n",
       "    <tr>\n",
       "      <th>14</th>\n",
       "      <td>Q023</td>\n",
       "      <td>NaN</td>\n",
       "      <td>2.879641e+05</td>\n",
       "    </tr>\n",
       "  </tbody>\n",
       "</table>\n",
       "</div>"
      ],
      "text/plain": [
       "   feature_names                                          descricao  \\\n",
       "0           Q006  Qual é a renda mensal de sua família? (Some a ...   \n",
       "1           Q027  Em que tipo de escola você frequentou o Ensino...   \n",
       "2           Q024                  Na sua residência tem computador?   \n",
       "3           Q008                    Na sua residência tem banheiro?   \n",
       "4           Q010                       Na sua residência tem carro?   \n",
       "5           Q002  Até que série sua mãe, ou a mulher responsável...   \n",
       "6           Q019          Na sua residência tem televisão em cores?   \n",
       "7           Q018             Na sua residência tem aspirador de pó?   \n",
       "8           Q022            Na sua residência tem telefone celular?   \n",
       "9           Q025           Na sua residência tem acesso à Internet?   \n",
       "10          Q016           Na sua residência tem forno micro-ondas?   \n",
       "11          Q004  A partir da apresentação de algumas ocupações ...   \n",
       "12          Q021           Na sua residência tem TV por assinatura?   \n",
       "13          Q013  Na sua residência tem freezer (independente ou...   \n",
       "14          Q023                                                NaN   \n",
       "\n",
       "          scores  \n",
       "0   1.183062e+06  \n",
       "1   8.701589e+05  \n",
       "2   7.962705e+05  \n",
       "3   5.943384e+05  \n",
       "4   5.116835e+05  \n",
       "5   4.098133e+05  \n",
       "6   3.737618e+05  \n",
       "7   3.568314e+05  \n",
       "8   3.459437e+05  \n",
       "9   3.161334e+05  \n",
       "10  3.095809e+05  \n",
       "11  3.022017e+05  \n",
       "12  2.892371e+05  \n",
       "13  2.880642e+05  \n",
       "14  2.879641e+05  "
      ]
     },
     "execution_count": 57,
     "metadata": {},
     "output_type": "execute_result"
    }
   ],
   "source": [
    "kBest_df.merge(questoes, how='left', left_on='feature_names', right_on='n_questao')[['feature_names','descricao','scores']]"
   ]
  },
  {
   "cell_type": "markdown",
   "metadata": {},
   "source": [
    "### 2. Seleção a partir de Modelo"
   ]
  },
  {
   "cell_type": "markdown",
   "metadata": {},
   "source": [
    "A seleção a partir de modelo é outro método implementado no Scikit Learn. Nesse método, treina-se um modelo de aprendizado de máquina e observa-se as características que receberam importância maior para o treinamento.\n",
    "\n",
    "Referências:\n",
    "1. https://scikit-learn.org/stable/modules/generated/sklearn.feature_selection.SelectFromModel.html\n",
    "2. https://scikit-learn.org/stable/modules/feature_selection.html\n",
    "3. https://scikit-learn.org/stable/auto_examples/feature_selection/plot_select_from_model_boston.html"
   ]
  },
  {
   "cell_type": "markdown",
   "metadata": {},
   "source": [
    "Antes de realizar tal seleção dividiremos os conjuntos de dados em treinamento e teste:"
   ]
  },
  {
   "cell_type": "code",
   "execution_count": 61,
   "metadata": {},
   "outputs": [],
   "source": [
    "X_train, X_test, y_train, y_test = train_test_split(X[microdados_enem_features], y.MEAN, test_size=0.35, random_state=7)"
   ]
  },
  {
   "cell_type": "code",
   "execution_count": 62,
   "metadata": {},
   "outputs": [],
   "source": [
    "X_train, X_test, y_train2, y_test2 = train_test_split(X[microdados_enem_features], y.MEAN_GROUPS, test_size=0.35, random_state=7)"
   ]
  },
  {
   "cell_type": "code",
   "execution_count": 63,
   "metadata": {},
   "outputs": [
    {
     "name": "stdout",
     "output_type": "stream",
     "text": [
      "Train and Test Shapes:\n",
      "X_train.shape: (2530883, 41) y_train.shape: (2530883,)\n",
      "X_test.shape: (1362784, 41) y_test.shape: (1362784,)\n"
     ]
    }
   ],
   "source": [
    "print(\"Train and Test Shapes:\\nX_train.shape: {} y_train.shape: {}\\nX_test.shape: {} y_test.shape: {}\".format(\n",
    "      X_train.shape, y_train.shape, X_test.shape, y_test.shape)) "
   ]
  },
  {
   "cell_type": "markdown",
   "metadata": {},
   "source": [
    "### 2.1 Lasso"
   ]
  },
  {
   "cell_type": "markdown",
   "metadata": {},
   "source": [
    "Referênica: https://scikit-learn.org/stable/modules/generated/sklearn.linear_model.Lasso.html"
   ]
  },
  {
   "cell_type": "code",
   "execution_count": 64,
   "metadata": {
    "scrolled": true
   },
   "outputs": [
    {
     "name": "stderr",
     "output_type": "stream",
     "text": [
      "/Users/kizzyterra/Workspace/enem-project/venv/lib/python3.7/site-packages/sklearn/linear_model/coordinate_descent.py:475: ConvergenceWarning: Objective did not converge. You might want to increase the number of iterations. Duality gap: 5567052045.41951, tolerance: 1730699.7241996988\n",
      "  positive)\n"
     ]
    },
    {
     "data": {
      "text/plain": [
       "array([[2.111300e+06, 2.100000e+01, 3.700000e+01, ..., 0.000000e+00,\n",
       "        1.000000e+00, 0.000000e+00],\n",
       "       [3.170206e+06, 3.100000e+01, 2.300000e+01, ..., 2.000000e+00,\n",
       "        1.000000e+00, 0.000000e+00],\n",
       "       [5.217609e+06, 5.200000e+01, 1.800000e+01, ..., 0.000000e+00,\n",
       "        0.000000e+00, 0.000000e+00],\n",
       "       ...,\n",
       "       [3.304557e+06, 3.300000e+01, 2.000000e+01, ..., 1.000000e+00,\n",
       "        1.000000e+00, 5.000000e+00],\n",
       "       [3.510609e+06, 3.500000e+01, 1.700000e+01, ..., 1.000000e+00,\n",
       "        1.000000e+00, 0.000000e+00],\n",
       "       [3.116704e+06, 3.100000e+01, 1.800000e+01, ..., 1.000000e+00,\n",
       "        1.000000e+00, 0.000000e+00]])"
      ]
     },
     "execution_count": 64,
     "metadata": {},
     "output_type": "execute_result"
    }
   ],
   "source": [
    "clf_lasso = Lasso(alpha=0.1)\n",
    "\n",
    "sfm = SelectFromModel(clf_lasso)\n",
    "sfm.fit(X_train, y_train)\n",
    "X_transform = sfm.transform(X_train)\n",
    "n_features = X_transform.shape[1]\n",
    "\n",
    "X_transform"
   ]
  },
  {
   "cell_type": "markdown",
   "metadata": {},
   "source": [
    "### Lasso - carcatrísticas mais relevantes"
   ]
  },
  {
   "cell_type": "code",
   "execution_count": 65,
   "metadata": {
    "scrolled": true
   },
   "outputs": [
    {
     "data": {
      "text/plain": [
       "Index(['CO_MUNICIPIO_RESIDENCIA', 'CO_UF_RESIDENCIA', 'NU_IDADE', 'TP_SEXO',\n",
       "       'TP_COR_RACA', 'TP_NACIONALIDADE', 'CO_MUNICIPIO_NASCIMENTO',\n",
       "       'CO_UF_NASCIMENTO', 'TP_ST_CONCLUSAO', 'TP_ANO_CONCLUIU', 'TP_ESCOLA',\n",
       "       'Q001', 'Q002', 'Q003', 'Q004', 'Q005', 'Q006', 'Q007', 'Q008', 'Q009',\n",
       "       'Q011', 'Q012', 'Q013', 'Q015', 'Q016', 'Q017', 'Q018', 'Q019', 'Q020',\n",
       "       'Q021', 'Q022', 'Q023', 'Q024', 'Q025', 'Q027'],\n",
       "      dtype='object')"
      ]
     },
     "execution_count": 65,
     "metadata": {},
     "output_type": "execute_result"
    }
   ],
   "source": [
    "X_train.columns[sfm.get_support()]"
   ]
  },
  {
   "cell_type": "code",
   "execution_count": 66,
   "metadata": {},
   "outputs": [
    {
     "data": {
      "image/png": "[encoded data removed]",
      "text/plain": [
       "<Figure size 1080x1080 with 2 Axes>"
      ]
     },
     "metadata": {
      "needs_background": "light"
     },
     "output_type": "display_data"
    }
   ],
   "source": [
    "plt.figure(figsize=(15,15))\n",
    "g=sns.heatmap(X[['TP_SEXO', 'TP_NACIONALIDADE', 'CO_UF_NASCIMENTO', 'TP_ST_CONCLUSAO',\n",
    "       'Q006', 'Q011', 'Q012', 'Q013', 'Q015', 'Q024', 'Q025', 'Q026', 'Q027','MEAN']].corr(),annot=True,cmap=\"RdYlGn\")"
   ]
  },
  {
   "cell_type": "markdown",
   "metadata": {},
   "source": [
    "### 2.2 Regressão Linear"
   ]
  },
  {
   "cell_type": "markdown",
   "metadata": {},
   "source": [
    "Referência: https://scikit-learn.org/stable/modules/generated/sklearn.linear_model.LinearRegression.html#sklearn.linear_model.LinearRegression"
   ]
  },
  {
   "cell_type": "code",
   "execution_count": 67,
   "metadata": {},
   "outputs": [
    {
     "data": {
      "text/plain": [
       "array([[ 1., 21.,  1., ...,  1.,  0.,  0.],\n",
       "       [ 1., 31.,  1., ...,  1.,  0.,  0.],\n",
       "       [ 1., 21.,  2., ...,  0.,  1.,  0.],\n",
       "       ...,\n",
       "       [ 3., 33.,  1., ...,  1.,  0.,  5.],\n",
       "       [ 1., 35.,  2., ...,  1.,  1.,  0.],\n",
       "       [ 1., 31.,  2., ...,  1.,  1.,  0.]])"
      ]
     },
     "execution_count": 67,
     "metadata": {},
     "output_type": "execute_result"
    }
   ],
   "source": [
    "clf_lreg = LinearRegression()\n",
    "\n",
    "sfm = SelectFromModel(clf_lreg)\n",
    "sfm.fit(X_train, y_train)\n",
    "X_transform = sfm.transform(X_train)\n",
    "n_features = X_transform.shape[1]\n",
    "\n",
    "X_transform"
   ]
  },
  {
   "cell_type": "markdown",
   "metadata": {},
   "source": [
    "### 2.3 Seleção a partir de Classificador "
   ]
  },
  {
   "cell_type": "markdown",
   "metadata": {},
   "source": [
    "Referência: https://scikit-learn.org/stable/modules/generated/sklearn.ensemble.ExtraTreesClassifier.html"
   ]
  },
  {
   "cell_type": "code",
   "execution_count": 68,
   "metadata": {},
   "outputs": [
    {
     "name": "stderr",
     "output_type": "stream",
     "text": [
      "/Users/kizzyterra/Workspace/enem-project/venv/lib/python3.7/site-packages/sklearn/ensemble/forest.py:245: FutureWarning: The default value of n_estimators will change from 10 in version 0.20 to 100 in 0.22.\n",
      "  \"10 in version 0.20 to 100 in 0.22.\", FutureWarning)\n"
     ]
    },
    {
     "name": "stdout",
     "output_type": "stream",
     "text": [
      "[0.05564395 0.0466738  0.03198052 0.04596069 0.01401809 0.01150876\n",
      " 0.03230592 0.00713026 0.04578118 0.03257379 0.00645451 0.02521119\n",
      " 0.01023672 0.0035333  0.04075182 0.03927012 0.03657249 0.03092095\n",
      " 0.04110291 0.05460165 0.00791956 0.02407342 0.03167373 0.02210852\n",
      " 0.02093606 0.00860622 0.01857219 0.01790016 0.01200368 0.01758537\n",
      " 0.00405185 0.0109834  0.02640343 0.01936145 0.01455607 0.03340039\n",
      " 0.01241392 0.02918311 0.0163654  0.00673626 0.03293319]\n"
     ]
    },
    {
     "data": {
      "image/png": "[encoded data removed]",
      "text/plain": [
       "<Figure size 432x288 with 1 Axes>"
      ]
     },
     "metadata": {
      "needs_background": "light"
     },
     "output_type": "display_data"
    }
   ],
   "source": [
    "model = ExtraTreesClassifier()\n",
    "model.fit(X_train,y_train2)\n",
    "print(model.feature_importances_) #use inbuilt class feature_importances of tree based classifiers\n",
    "#plot graph of feature importances for better visualization\n",
    "feat_importances = pd.Series(model.feature_importances_, index=X_train.columns)\n",
    "feat_importances.nlargest(10).plot(kind='barh')\n",
    "plt.show()"
   ]
  },
  {
   "cell_type": "markdown",
   "metadata": {},
   "source": [
    "### 3. Análise de componentes PCA"
   ]
  },
  {
   "cell_type": "markdown",
   "metadata": {},
   "source": [
    "A análise de componentes principais é um método de redução de dimensionalide de conjunto de dados. Nesse método ocorre uma projeção de um espaço maior em um espaço de dimensão menor. Sendo assim, sada compoenente PCA é um vetor com coeficientes para cada uma das variáveis do conjunto de dados. Analisando esse coeficientes podemos identificar quais as características mais relevantes em cada componente.\n",
    "\n",
    "Referências:\n",
    "1. https://scikit-learn.org/stable/modules/generated/sklearn.decomposition.PCA.html\n",
    "2. https://scikit-learn.org/stable/auto_examples/decomposition/plot_pca_iris.html"
   ]
  },
  {
   "cell_type": "code",
   "execution_count": 69,
   "metadata": {},
   "outputs": [
    {
     "data": {
      "text/plain": [
       "PCA(copy=True, iterated_power='auto', n_components=10, random_state=None,\n",
       "    svd_solver='auto', tol=0.0, whiten=False)"
      ]
     },
     "execution_count": 69,
     "metadata": {},
     "output_type": "execute_result"
    }
   ],
   "source": [
    "pca = decomposition.PCA(n_components=10)\n",
    "pca.fit(X_train)"
   ]
  },
  {
   "cell_type": "code",
   "execution_count": 70,
   "metadata": {},
   "outputs": [
    {
     "data": {
      "text/plain": [
       "array([6.49073456e-01, 3.31328854e-01, 1.95976897e-02, 1.11147051e-11,\n",
       "       2.75733008e-12, 8.35264578e-13, 7.80059318e-13, 3.95907520e-13,\n",
       "       3.48153809e-13, 3.16146724e-13])"
      ]
     },
     "execution_count": 70,
     "metadata": {},
     "output_type": "execute_result"
    }
   ],
   "source": [
    "pca.explained_variance_ratio_"
   ]
  },
  {
   "cell_type": "markdown",
   "metadata": {},
   "source": [
    "Embora tenhamos realizado uma decomposição em componente principais, analisando a variância podemos observar que as duas primeiras componentes guardam 98% da informação da projeção, portanto analisaremos apenas os coeficientes dessas duas componentes para as características:"
   ]
  },
  {
   "cell_type": "code",
   "execution_count": 71,
   "metadata": {},
   "outputs": [],
   "source": [
    "#pca.components_"
   ]
  },
  {
   "cell_type": "code",
   "execution_count": 72,
   "metadata": {},
   "outputs": [],
   "source": [
    "pc_components = pd.DataFrame(pca.components_,columns=X_train.columns,index = ['PC-1','PC-2','PC-3','PC-4','PC-5',\n",
    "                                                                  'PC-6','PC-7','PC-8','PC-9','PC-10'])"
   ]
  },
  {
   "cell_type": "code",
   "execution_count": 73,
   "metadata": {},
   "outputs": [
    {
     "data": {
      "text/plain": [
       "NU_INSCRICAO               9.997252e-01\n",
       "CO_MUNICIPIO_RESIDENCIA    1.697187e-02\n",
       "CO_MUNICIPIO_NASCIMENTO    1.617195e-02\n",
       "NU_IDADE                   1.988258e-07\n",
       "CO_UF_RESIDENCIA           1.678983e-07\n",
       "CO_UF_NASCIMENTO           1.600319e-07\n",
       "Q006                       1.448310e-07\n",
       "TP_ANO_CONCLUIU            1.178327e-07\n",
       "Q027                       3.343202e-08\n",
       "Q010                       2.614031e-08\n",
       "Q004                       2.525815e-08\n",
       "Q002                       2.524580e-08\n",
       "Q008                       2.059892e-08\n",
       "Q009                       1.920878e-08\n",
       "TP_SEXO                    1.882424e-08\n",
       "IN_TREINEIRO               1.661433e-08\n",
       "Q001                       1.654071e-08\n",
       "Q024                       1.552582e-08\n",
       "Q014                       1.523811e-08\n",
       "Q022                       1.507852e-08\n",
       "Name: PC-1, dtype: float64"
      ]
     },
     "execution_count": 73,
     "metadata": {},
     "output_type": "execute_result"
    }
   ],
   "source": [
    "pc_components.loc['PC-1'].sort_values(ascending=False)[:20]"
   ]
  },
  {
   "cell_type": "code",
   "execution_count": 74,
   "metadata": {},
   "outputs": [
    {
     "data": {
      "text/plain": [
       "CO_MUNICIPIO_RESIDENCIA    7.128056e-01\n",
       "CO_MUNICIPIO_NASCIMENTO    7.009699e-01\n",
       "CO_UF_RESIDENCIA           7.104220e-06\n",
       "CO_UF_NASCIMENTO           6.984512e-06\n",
       "Q006                       5.745953e-07\n",
       "Q010                       1.457337e-07\n",
       "Q003                       1.315824e-07\n",
       "Q022                       1.289860e-07\n",
       "Q024                       1.259260e-07\n",
       "Q001                       1.179431e-07\n",
       "Q004                       1.158899e-07\n",
       "Q016                       1.134454e-07\n",
       "Q014                       1.106480e-07\n",
       "Q002                       1.026217e-07\n",
       "Q013                       9.289598e-08\n",
       "Q023                       7.918958e-08\n",
       "Q025                       7.695937e-08\n",
       "Q018                       7.427917e-08\n",
       "Q009                       7.382918e-08\n",
       "Q008                       7.345535e-08\n",
       "Name: PC-2, dtype: float64"
      ]
     },
     "execution_count": 74,
     "metadata": {},
     "output_type": "execute_result"
    }
   ],
   "source": [
    "pc_components.loc['PC-2'].sort_values(ascending=False)[:20]"
   ]
  },
  {
   "cell_type": "markdown",
   "metadata": {},
   "source": [
    "## Conclusão"
   ]
  },
  {
   "cell_type": "markdown",
   "metadata": {},
   "source": [
    "Os diferentes métodos utilizados nos permitem verificar a relevância das caracteríticas que se referem a condições socioeconômicas, tais como:\n",
    "\n",
    "1. Q006 - Renda mensal da família\n",
    "2. Q027 - Tipo de escola frequentou\n",
    "3. Q002 - Escolaridade da mãe\n",
    "4. Infraestrutura da residência: computador, telefone celular, internet, banheiro, geladeira, veículo de transporte"
   ]
  },
  {
   "cell_type": "markdown",
   "metadata": {},
   "source": [
    "A análise feita nesse notebook por Kizzy Terra complementa se com as visualizações disponíveis no notebook: *Visualizando características dos microdados do ENEM*"
   ]
  },
  {
   "cell_type": "code",
   "execution_count": null,
   "metadata": {},
   "outputs": [],
   "source": []
  },
  {
   "cell_type": "code",
   "execution_count": null,
   "metadata": {},
   "outputs": [],
   "source": []
  }
 ],
 "metadata": {
  "kernelspec": {
   "display_name": "Python 3",
   "language": "python",
   "name": "python3"
  },
  "language_info": {
   "codemirror_mode": {
    "name": "ipython",
    "version": 3
   },
   "file_extension": ".py",
   "mimetype": "text/x-python",
   "name": "python",
   "nbconvert_exporter": "python",
   "pygments_lexer": "ipython3",
   "version": "3.7.4"
  }
 },
 "nbformat": 4,
 "nbformat_minor": 2
}
